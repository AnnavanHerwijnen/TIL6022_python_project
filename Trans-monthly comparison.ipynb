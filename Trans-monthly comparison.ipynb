{
 "cells": [
  {
   "cell_type": "code",
   "execution_count": null,
   "id": "2d361959",
   "metadata": {},
   "outputs": [
    {
     "ename": "ModuleNotFoundError",
     "evalue": "No module named 'pandas'",
     "output_type": "error",
     "traceback": [
      "\u001b[31m---------------------------------------------------------------------------\u001b[39m",
      "\u001b[31mModuleNotFoundError\u001b[39m                       Traceback (most recent call last)",
      "\u001b[36mCell\u001b[39m\u001b[36m \u001b[39m\u001b[32mIn[2]\u001b[39m\u001b[32m, line 1\u001b[39m\n\u001b[32m----> \u001b[39m\u001b[32m1\u001b[39m \u001b[38;5;28;01mimport\u001b[39;00m\u001b[38;5;250m \u001b[39m\u001b[34;01mpandas\u001b[39;00m\u001b[38;5;250m \u001b[39m\u001b[38;5;28;01mas\u001b[39;00m\u001b[38;5;250m \u001b[39m\u001b[34;01mpd\u001b[39;00m\n\u001b[32m      2\u001b[39m \u001b[38;5;28;01mimport\u001b[39;00m\u001b[38;5;250m \u001b[39m\u001b[34;01mmatplotlib\u001b[39;00m\u001b[34;01m.\u001b[39;00m\u001b[34;01mpyplot\u001b[39;00m\u001b[38;5;250m \u001b[39m\u001b[38;5;28;01mas\u001b[39;00m\u001b[38;5;250m \u001b[39m\u001b[34;01mplt\u001b[39;00m\n\u001b[32m      3\u001b[39m \u001b[38;5;28;01mimport\u001b[39;00m\u001b[38;5;250m \u001b[39m\u001b[34;01mseaborn\u001b[39;00m\u001b[38;5;250m \u001b[39m\u001b[38;5;28;01mas\u001b[39;00m\u001b[38;5;250m \u001b[39m\u001b[34;01msns\u001b[39;00m\n",
      "\u001b[31mModuleNotFoundError\u001b[39m: No module named 'pandas'"
     ]
    }
   ],
   "source": [
    "import pandas as pd\n",
    "import matplotlib.pyplot as plt\n",
    "import seaborn as sns\n",
    "import numpy as np\n",
    "\n",
    "file_path = \"D:\\\\H\\\\Y1Q1\\\\programming\\\\project\\\\2023 transline.txt\"\n",
    "df = pd.read_csv(file_path, sep=';', decimal='.')\n",
    "df.columns = ['Date', 'Hour', 'Check_ins']\n",
    "df['Datetime'] = pd.to_datetime(df['Date'] + ' ' + df['Hour'].astype(str) + ':00:00', format='%d-%m-%Y %H:%M:%S')\n",
    "df.set_index('Datetime', inplace=True)\n",
    "df['DayOfMonth'] = df.index.day # Day of the month (1-31)\n",
    "df['Month'] = df.index.month # Month of the year (1-12)\n",
    "df['DayOfWeek'] = 1+df.index.dayofweek # Day of the week (1=Monday, 7=Sunday)\n",
    "df['WeekOfYear'] = df.index.isocalendar().week # Week of the year\n",
    "df['DayOfYear'] = df.index.dayofyear # Day of the year (1-365/366)\n",
    "\n",
    "monthly_day_avg = df.groupby(['Month', 'DayOfMonth'])['Check_ins'].mean().unstack(level=0)\n",
    "\n",
    "plt.figure(figsize=(12, 8))\n",
    "\n",
    "monthly_day_avg.plot(ax=plt.gca())\n",
    "plt.title('Average Check-ins per day(2023)')\n",
    "plt.xlabel('Day of the Month')\n",
    "plt.ylabel('Average Check-ins')\n",
    "plt.legend(title='Month', loc='upper right', bbox_to_anchor=(1.15, 1))\n",
    "plt.grid(True, linestyle='--', alpha=0.6)\n",
    "plt.tight_layout()\n",
    "plt.show()\n",
    "\n",
    "print(\"Monthly Day Comparison\")"
   ]
  }
 ],
 "metadata": {
  "kernelspec": {
   "display_name": "TIL6022-25",
   "language": "python",
   "name": "python3"
  },
  "language_info": {
   "codemirror_mode": {
    "name": "ipython",
    "version": 3
   },
   "file_extension": ".py",
   "mimetype": "text/x-python",
   "name": "python",
   "nbconvert_exporter": "python",
   "pygments_lexer": "ipython3",
   "version": "3.13.5"
  }
 },
 "nbformat": 4,
 "nbformat_minor": 5
}
