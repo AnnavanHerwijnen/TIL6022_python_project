{
 "cells": [
  {
   "cell_type": "markdown",
   "id": "b6706545",
   "metadata": {},
   "source": [
    "# Lab 7: Versioning 2"
   ]
  },
  {
   "cell_type": "markdown",
   "id": "2deaa5af",
   "metadata": {},
   "source": [
    "In this task, you will set up your own working repository as a group, work in separate branches and then merge your changes together.\n",
    "\n",
    "### Make the repository\n",
    "- Find your group\n",
    "- Nominate one person to create a new repository. To do this, follow the instructions [here](https://docs.github.com/en/repositories/creating-and-managing-repositories/creating-a-new-repository)\n",
    "- For your repository, keep all the default settings\n",
    "- Upload a copy of this notebook into the repo.\n",
    "- Provide a link to the repo in part 1 of the lab. Make sure this link can be found in your personal assignment repository."
   ]
  },
  {
   "cell_type": "markdown",
   "id": "51611ef0",
   "metadata": {},
   "source": [
    "\n",
    "### Clone repository onto local devices\n",
    "\n",
    "Now that the repository exists on Github, everyone in the group should clone it and create a branch on their local computers. \n",
    "You can find links to the instructions in README.md"
   ]
  },
  {
   "cell_type": "markdown",
   "id": "d3a11c84",
   "metadata": {},
   "source": [
    "### Create branches\n",
    "- Create your own branch. Name it the same as your Github username.\n",
    "- This includes the repository owner!\n",
    "\n",
    "### Make local changes\n",
    "\n",
    "Work individually on the coding exercises below.\n",
    "When you try to merge your changes, you may run into some merge conflicts as your groupmates make different edits than you.\n",
    "Check [here](https://code.visualstudio.com/docs/sourcecontrol/overview) if you need some help in solving these conflicts. Many conflicts can also be prevented by using good practices when working together, such as merging and pulling often and working on different lines."
   ]
  },
  {
   "cell_type": "code",
   "execution_count": null,
   "id": "8104ed78",
   "metadata": {
    "vscode": {
     "languageId": "plaintext"
    }
   },
   "outputs": [],
   "source": [
    "# Add yourself to this contributor list:\n",
    "\n",

    "contributors = [Greta Nikolova, Manasa, Anna van Herwijnen, Evelyn, NDBrodbelt]\n"
   ]
  },
  {
   "cell_type": "code",
   "execution_count": null,
   "id": "42b40b69",
   "metadata": {
    "vscode": {
     "languageId": "plaintext"
    }
   },
   "outputs": [],
   "source": [
    "# Add an entry in this dictionary:\n",
    "\n",
    "favorite_things = {\n",
    "    # Add your own entry below this line!\n",
    "    \"### YOUR NAME HERE ###\": {\n",
    "        \"movie\": ### YOUR CODE HERE ###,\n",
    "        \"food\": ### YOUR CODE HERE ###,\n",
    "        \"animal\": ### YOUR CODE HERE ###\n",
    "    },\n",
    "    \n",
    "    # Add your own entry below this line!\n",
    "\n",
    "    \"Greta Nikolova\": {\n",
    "        \"movie\": \"The Hunger Games\",\n",
    "        \"food\": \"pasta\",\n",
    "        \"animal\": \"dog\"\n",
    "    },\n",
    "    \"manasaht2003\": {\n",
    "        \"movie\": \"Inception\",\n",
    "        \"food\": \"Masala Dosa\",\n",
    "        \"animal\": \"Elephant\"\n",
    "    \"Anna\": {\n",
    "        \"movie\": \"Titanic\",\n",
    "        \"food\": \"Lasagne\",\n",
    "        \"animal\": \"Cat\"\n",
    "    },\n",
    "    \"Anna\": {\n",
    "        \"movie\": \"Titanic\",\n",
    "        \"food\": \"Lasagne\",\n",
    "        \"animal\": \"Cat\"\n",
    "    },\n",  
    "    \"### zitong zeng ###\": {\n",
    "        \"movie\": ### The Lord of the Rine ###,\n",
    "        \"food\": ### apple pie ###,\n",
    "        \"animal\": ### golden retriver ###\n",
    "    },\n",
    "   \"Nicolas\": {\n",
    "        \"movie\": \"Narnia\",\n",
    "        \"food\": \"Pizza\",\n",
    "        \"animal\": \"Cat\"\n",
    "     },\n",
    "}"
   ]
  },
  {
   "cell_type": "code",
   "execution_count": null,
   "id": "f2b66f6a",
   "metadata": {
    "vscode": {
     "languageId": "plaintext"
    }
   },
   "outputs": [],
   "source": [
    "# Add a joke into the joke library:\n",
    "\n",
    "jokes = [\n",
    "    \"There are 10 kinds of people in the world: those who understand binary, and those who don't.\",\n",
    "    # Add your joke here!\n",
    "    \"Why did the chicken cross the road? To get to the other side\"\n",
    "    \"Why do programmers prefer dark mode? Because light attracts bugs!\"\n",
    "    \"Why can't you trust an atom? Because they make up everything.\"\n",
    "    \" Why Shakespare only use pens to write? Because if he  uses pencils, he would confuse to be or not to be.\" \n",
    "    \"What's the difference between a fish and a piano? You can tune a piano but you can't tuna fish\"\n",
    "]"
   ]
  },
  {
   "cell_type": "markdown",
   "id": "0ee60dca",
   "metadata": {},
   "source": [
    "### Merge into the original branch\n",
    "\n",
    "- Commit, push and sync your changes using the VS Code Github interface.\n",
    "- Create merge requests into the main branch. \n",
    "- The repository owner will have to approve these requests to merge them."
   ]
  }
 ],
 "metadata": {
  "language_info": {
   "name": "python"
  }
 },
 "nbformat": 4,
 "nbformat_minor": 5
}
