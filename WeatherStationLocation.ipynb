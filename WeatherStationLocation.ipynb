{
 "cells": [
  {
   "cell_type": "code",
   "execution_count": 25,
   "id": "6dad1445",
   "metadata": {},
   "outputs": [],
   "source": [
    "import pandas as pd\n",
    "import numpy as np\n",
    "import plotly as plt\n",
    "import plotly.express as px\n",
    "import os\n",
    "import chardet"
   ]
  },
  {
   "cell_type": "code",
   "execution_count": 26,
   "id": "fd855de2",
   "metadata": {},
   "outputs": [
    {
     "data": {
      "text/html": [
       "<div>\n",
       "<style scoped>\n",
       "    .dataframe tbody tr th:only-of-type {\n",
       "        vertical-align: middle;\n",
       "    }\n",
       "\n",
       "    .dataframe tbody tr th {\n",
       "        vertical-align: top;\n",
       "    }\n",
       "\n",
       "    .dataframe thead th {\n",
       "        text-align: right;\n",
       "    }\n",
       "</style>\n",
       "<table border=\"1\" class=\"dataframe\">\n",
       "  <thead>\n",
       "    <tr style=\"text-align: right;\">\n",
       "      <th></th>\n",
       "      <th>STN</th>\n",
       "      <th>LON(east)</th>\n",
       "      <th>LAT(north)</th>\n",
       "      <th>ALT(m)</th>\n",
       "      <th>NAME</th>\n",
       "      <th>Type</th>\n",
       "    </tr>\n",
       "  </thead>\n",
       "  <tbody>\n",
       "    <tr>\n",
       "      <th>0</th>\n",
       "      <td>209</td>\n",
       "      <td>4.518</td>\n",
       "      <td>52.465</td>\n",
       "      <td>0.0</td>\n",
       "      <td>IJmond</td>\n",
       "      <td>All Stations</td>\n",
       "    </tr>\n",
       "    <tr>\n",
       "      <th>1</th>\n",
       "      <td>210</td>\n",
       "      <td>4.430</td>\n",
       "      <td>52.171</td>\n",
       "      <td>-0.2</td>\n",
       "      <td>Valkenburg Zh</td>\n",
       "      <td>All Stations</td>\n",
       "    </tr>\n",
       "    <tr>\n",
       "      <th>2</th>\n",
       "      <td>215</td>\n",
       "      <td>4.437</td>\n",
       "      <td>52.141</td>\n",
       "      <td>-1.1</td>\n",
       "      <td>Voorschoten</td>\n",
       "      <td>All Stations</td>\n",
       "    </tr>\n",
       "    <tr>\n",
       "      <th>3</th>\n",
       "      <td>225</td>\n",
       "      <td>4.555</td>\n",
       "      <td>52.463</td>\n",
       "      <td>4.4</td>\n",
       "      <td>IJmuiden</td>\n",
       "      <td>All Stations</td>\n",
       "    </tr>\n",
       "    <tr>\n",
       "      <th>4</th>\n",
       "      <td>235</td>\n",
       "      <td>4.781</td>\n",
       "      <td>52.928</td>\n",
       "      <td>1.2</td>\n",
       "      <td>De Kooy</td>\n",
       "      <td>All Stations</td>\n",
       "    </tr>\n",
       "    <tr>\n",
       "      <th>5</th>\n",
       "      <td>240</td>\n",
       "      <td>4.790</td>\n",
       "      <td>52.318</td>\n",
       "      <td>-3.3</td>\n",
       "      <td>Schiphol</td>\n",
       "      <td>All Stations</td>\n",
       "    </tr>\n",
       "    <tr>\n",
       "      <th>6</th>\n",
       "      <td>242</td>\n",
       "      <td>4.921</td>\n",
       "      <td>53.241</td>\n",
       "      <td>10.8</td>\n",
       "      <td>Vlieland</td>\n",
       "      <td>All Stations</td>\n",
       "    </tr>\n",
       "    <tr>\n",
       "      <th>7</th>\n",
       "      <td>248</td>\n",
       "      <td>5.174</td>\n",
       "      <td>52.634</td>\n",
       "      <td>0.8</td>\n",
       "      <td>Wijdenes</td>\n",
       "      <td>All Stations</td>\n",
       "    </tr>\n",
       "    <tr>\n",
       "      <th>8</th>\n",
       "      <td>249</td>\n",
       "      <td>4.979</td>\n",
       "      <td>52.644</td>\n",
       "      <td>-2.4</td>\n",
       "      <td>Berkhout</td>\n",
       "      <td>All Stations</td>\n",
       "    </tr>\n",
       "    <tr>\n",
       "      <th>9</th>\n",
       "      <td>251</td>\n",
       "      <td>5.346</td>\n",
       "      <td>53.392</td>\n",
       "      <td>0.7</td>\n",
       "      <td>Hoorn Terschelling</td>\n",
       "      <td>All Stations</td>\n",
       "    </tr>\n",
       "  </tbody>\n",
       "</table>\n",
       "</div>"
      ],
      "text/plain": [
       "   STN  LON(east)  LAT(north)  ALT(m)                NAME          Type\n",
       "0  209      4.518      52.465     0.0              IJmond  All Stations\n",
       "1  210      4.430      52.171    -0.2       Valkenburg Zh  All Stations\n",
       "2  215      4.437      52.141    -1.1         Voorschoten  All Stations\n",
       "3  225      4.555      52.463     4.4            IJmuiden  All Stations\n",
       "4  235      4.781      52.928     1.2             De Kooy  All Stations\n",
       "5  240      4.790      52.318    -3.3            Schiphol  All Stations\n",
       "6  242      4.921      53.241    10.8            Vlieland  All Stations\n",
       "7  248      5.174      52.634     0.8            Wijdenes  All Stations\n",
       "8  249      4.979      52.644    -2.4            Berkhout  All Stations\n",
       "9  251      5.346      53.392     0.7  Hoorn Terschelling  All Stations"
      ]
     },
     "execution_count": 26,
     "metadata": {},
     "output_type": "execute_result"
    }
   ],
   "source": [
    "Weather_location = pd.read_csv(\"station_data.csv\") #Loads the weather station geographic data\n",
    "Active_Weather_Station_Location = pd.read_csv('Usable_weather_station_data.csv') #Loads the weather station geographic data of only the stations that measure for all necessary values (Rain, Wind, Temperature)\n",
    "Weather_location[\"Type\"] = \"All Stations\" #This adds a column to each dataframe that is used later to compare between\n",
    "Active_Weather_Station_Location[\"Type\"] = \"Usable Stations\"\n",
    "Weather_location.head(10)"
   ]
  },
  {
   "cell_type": "code",
   "execution_count": 27,
   "id": "e82c3924",
   "metadata": {},
   "outputs": [
    {
     "data": {
      "application/vnd.plotly.v1+json": {
       "config": {
        "plotlyServerURL": "https://plot.ly"
       },
       "data": [
        {
         "customdata": [
          [
           209,
           "IJmond",
           0
          ],
          [
           210,
           "Valkenburg Zh",
           -0.2
          ],
          [
           215,
           "Voorschoten",
           -1.1
          ],
          [
           225,
           "IJmuiden",
           4.4
          ],
          [
           235,
           "De Kooy",
           1.2
          ],
          [
           240,
           "Schiphol",
           -3.3
          ],
          [
           242,
           "Vlieland",
           10.8
          ],
          [
           248,
           "Wijdenes",
           0.8
          ],
          [
           249,
           "Berkhout",
           -2.4
          ],
          [
           251,
           "Hoorn Terschelling",
           0.7
          ],
          [
           257,
           "Wijk aan Zee",
           8.5
          ],
          [
           258,
           "Houtribdijk",
           7.3
          ],
          [
           260,
           "De Bilt",
           1.9
          ],
          [
           265,
           "Soesterberg",
           13.9
          ],
          [
           267,
           "Stavoren",
           -1.3
          ],
          [
           269,
           "Lelystad",
           -3.7
          ],
          [
           270,
           "Leeuwarden",
           1.2
          ],
          [
           273,
           "Marknesse",
           -3.3
          ],
          [
           275,
           "Deelen",
           48.2
          ],
          [
           277,
           "Lauwersoog",
           2.9
          ],
          [
           278,
           "Heino",
           3.6
          ],
          [
           279,
           "Hoogeveen",
           15.8
          ],
          [
           280,
           "Eelde",
           5.2
          ],
          [
           283,
           "Hupsel",
           29.1
          ],
          [
           285,
           "Huibertgat",
           0
          ],
          [
           286,
           "Nieuw Beerta",
           -0.2
          ],
          [
           290,
           "Twenthe",
           34.8
          ],
          [
           308,
           "Cadzand",
           0
          ],
          [
           310,
           "Vlissingen",
           8
          ],
          [
           311,
           "Hoofdplaat",
           0
          ],
          [
           312,
           "Oosterschelde",
           0
          ],
          [
           313,
           "Vlakte van De Raan",
           0
          ],
          [
           315,
           "Hansweert",
           0
          ],
          [
           316,
           "Schaar",
           0
          ],
          [
           319,
           "Westdorpe",
           1.7
          ],
          [
           323,
           "Wilhelminadorp",
           1.4
          ],
          [
           324,
           "Stavenisse",
           0
          ],
          [
           330,
           "Hoek van Holland",
           11.9
          ],
          [
           331,
           "Tholen",
           0
          ],
          [
           340,
           "Woensdrecht",
           19.2
          ],
          [
           343,
           "Rotterdam Geulhaven",
           3.5
          ],
          [
           344,
           "Rotterdam",
           -4.3
          ],
          [
           348,
           "Cabauw Mast",
           -0.7
          ],
          [
           350,
           "Gilze-Rijen",
           14.9
          ],
          [
           356,
           "Herwijnen",
           0.7
          ],
          [
           370,
           "Eindhoven",
           22.6
          ],
          [
           375,
           "Volkel",
           22
          ],
          [
           377,
           "Ell",
           30
          ],
          [
           380,
           "Maastricht",
           114.3
          ],
          [
           391,
           "Arcen",
           19.5
          ],
          [
           392,
           "Horst",
           21.88
          ]
         ],
         "hovertemplate": "LAT(north)=%{lat}<br>LON(east)=%{lon}<br>STN=%{customdata[0]}<br>NAME=%{customdata[1]}<br>ALT(m)=%{customdata[2]}<extra></extra>",
         "lat": {
          "bdata": "7FG4HoU7SkDZzvdT4xVKQDVeukkMEkpAJQaBlUM7SkAQWDm0yHZKQGIQWDm0KEpAAiuHFtmeSkD+1HjpJlFKQN9PjZduUkpAGQRWDi2ySkBU46WbxEBKQFCNl24SU0pAzczMzMwMSkBxPQrXoxBKQG3n+6nxckpAtMh2vp86SkDpJjEIrJxKQESLbOf7WUpAukkMAisHSkC+nxov3bRKQEjhehSuN0pAAAAAAABgSkAAAAAAAJBKQEa28/3UCEpAmpmZmZnJSkAMAiuHFplKQFCNl24SI0pAVOOlm8SwSUB/arx0k7hJQI2XbhKDsElA/Knx0k3iSUBxPQrXo8BJQPCnxks3uUlAarx0kxjUSUCwcmiR7ZxJQPp+arx0w0lAPzVeuknMSUDl0CLb+f5JQD0K16NwvUlAtvP91Hi5SUD8qfHSTfJJQEJg5dAi+0lAXI/C9Sj8SUCcxCCwcshJQMuhRbbz7UlAfT81Xrq5SUAxCKwcWtRJQNNNYhBYmUlAhxbZzvdzSUA5tMh2vr9JQPpBXaRQvklA",
          "dtype": "f8"
         },
         "legendgroup": "",
         "lon": {
          "bdata": "30+Nl24SEkC4HoXrUbgRQHNoke18vxFAuB6F61E4EkA5tMh2vh8TQClcj8L1KBNAyXa+nxqvE0AZBFYOLbIUQNEi2/l+6hNA/Knx0k1iFUC28/3UeGkSQLTIdr6fmhVAuB6F61G4FEB/arx0kxgVQPCnxks3iRVAFK5H4XoUFkA1XrpJDAIXQFpkO99PjRdAy6FFtvN9F0DNzMzMzMwYQPCnxks3CRlAsp3vp8ZLGkDXo3A9ClcaQFTjpZvEoBpAf2q8dJOYGUCamZmZmZkcQKrx0k1ikBtA1XjpJjEIC0D4U+Olm8QMQMdLN4lBYA1AYOXQItv5DEBWDi2yne8JQJZDi2zn+w9AWmQ730+NDUAX2c73U+MOQN9PjZduEg9AoBov3SQGEECwcmiR7XwQQBKDwMqhxRBAke18PzVeEUCNl24Sg0ARQH0/NV66yRFATmIQWDm0E0BYObTIdr4TQC/dJAaBlRRANV66SQyCFUCHFtnO99MWQFpkO99PDRdAPzVeukkMF0B9PzVeuskYQGyU9ZuJORhA",
          "dtype": "f8"
         },
         "marker": {
          "color": "#636efa"
         },
         "mode": "markers",
         "name": "",
         "showlegend": false,
         "subplot": "map",
         "type": "scattermap"
        }
       ],
       "layout": {
        "height": 1000,
        "legend": {
         "tracegroupgap": 0
        },
        "map": {
         "center": {
          "lat": 52.1010947603812,
          "lon": 5.646120953892783
         },
         "domain": {
          "x": [
           0,
           1
          ],
          "y": [
           0,
           1
          ]
         },
         "style": "carto-positron",
         "zoom": 6.9
        },
        "mapbox": {
         "center": {
          "lat": 52.1010947603812,
          "lon": 5.646120953892783
         },
         "style": "carto-positron",
         "zoom": 6.9
        },
        "template": {
         "data": {
          "bar": [
           {
            "error_x": {
             "color": "#2a3f5f"
            },
            "error_y": {
             "color": "#2a3f5f"
            },
            "marker": {
             "line": {
              "color": "#E5ECF6",
              "width": 0.5
             },
             "pattern": {
              "fillmode": "overlay",
              "size": 10,
              "solidity": 0.2
             }
            },
            "type": "bar"
           }
          ],
          "barpolar": [
           {
            "marker": {
             "line": {
              "color": "#E5ECF6",
              "width": 0.5
             },
             "pattern": {
              "fillmode": "overlay",
              "size": 10,
              "solidity": 0.2
             }
            },
            "type": "barpolar"
           }
          ],
          "carpet": [
           {
            "aaxis": {
             "endlinecolor": "#2a3f5f",
             "gridcolor": "white",
             "linecolor": "white",
             "minorgridcolor": "white",
             "startlinecolor": "#2a3f5f"
            },
            "baxis": {
             "endlinecolor": "#2a3f5f",
             "gridcolor": "white",
             "linecolor": "white",
             "minorgridcolor": "white",
             "startlinecolor": "#2a3f5f"
            },
            "type": "carpet"
           }
          ],
          "choropleth": [
           {
            "colorbar": {
             "outlinewidth": 0,
             "ticks": ""
            },
            "type": "choropleth"
           }
          ],
          "contour": [
           {
            "colorbar": {
             "outlinewidth": 0,
             "ticks": ""
            },
            "colorscale": [
             [
              0,
              "#0d0887"
             ],
             [
              0.1111111111111111,
              "#46039f"
             ],
             [
              0.2222222222222222,
              "#7201a8"
             ],
             [
              0.3333333333333333,
              "#9c179e"
             ],
             [
              0.4444444444444444,
              "#bd3786"
             ],
             [
              0.5555555555555556,
              "#d8576b"
             ],
             [
              0.6666666666666666,
              "#ed7953"
             ],
             [
              0.7777777777777778,
              "#fb9f3a"
             ],
             [
              0.8888888888888888,
              "#fdca26"
             ],
             [
              1,
              "#f0f921"
             ]
            ],
            "type": "contour"
           }
          ],
          "contourcarpet": [
           {
            "colorbar": {
             "outlinewidth": 0,
             "ticks": ""
            },
            "type": "contourcarpet"
           }
          ],
          "heatmap": [
           {
            "colorbar": {
             "outlinewidth": 0,
             "ticks": ""
            },
            "colorscale": [
             [
              0,
              "#0d0887"
             ],
             [
              0.1111111111111111,
              "#46039f"
             ],
             [
              0.2222222222222222,
              "#7201a8"
             ],
             [
              0.3333333333333333,
              "#9c179e"
             ],
             [
              0.4444444444444444,
              "#bd3786"
             ],
             [
              0.5555555555555556,
              "#d8576b"
             ],
             [
              0.6666666666666666,
              "#ed7953"
             ],
             [
              0.7777777777777778,
              "#fb9f3a"
             ],
             [
              0.8888888888888888,
              "#fdca26"
             ],
             [
              1,
              "#f0f921"
             ]
            ],
            "type": "heatmap"
           }
          ],
          "histogram": [
           {
            "marker": {
             "pattern": {
              "fillmode": "overlay",
              "size": 10,
              "solidity": 0.2
             }
            },
            "type": "histogram"
           }
          ],
          "histogram2d": [
           {
            "colorbar": {
             "outlinewidth": 0,
             "ticks": ""
            },
            "colorscale": [
             [
              0,
              "#0d0887"
             ],
             [
              0.1111111111111111,
              "#46039f"
             ],
             [
              0.2222222222222222,
              "#7201a8"
             ],
             [
              0.3333333333333333,
              "#9c179e"
             ],
             [
              0.4444444444444444,
              "#bd3786"
             ],
             [
              0.5555555555555556,
              "#d8576b"
             ],
             [
              0.6666666666666666,
              "#ed7953"
             ],
             [
              0.7777777777777778,
              "#fb9f3a"
             ],
             [
              0.8888888888888888,
              "#fdca26"
             ],
             [
              1,
              "#f0f921"
             ]
            ],
            "type": "histogram2d"
           }
          ],
          "histogram2dcontour": [
           {
            "colorbar": {
             "outlinewidth": 0,
             "ticks": ""
            },
            "colorscale": [
             [
              0,
              "#0d0887"
             ],
             [
              0.1111111111111111,
              "#46039f"
             ],
             [
              0.2222222222222222,
              "#7201a8"
             ],
             [
              0.3333333333333333,
              "#9c179e"
             ],
             [
              0.4444444444444444,
              "#bd3786"
             ],
             [
              0.5555555555555556,
              "#d8576b"
             ],
             [
              0.6666666666666666,
              "#ed7953"
             ],
             [
              0.7777777777777778,
              "#fb9f3a"
             ],
             [
              0.8888888888888888,
              "#fdca26"
             ],
             [
              1,
              "#f0f921"
             ]
            ],
            "type": "histogram2dcontour"
           }
          ],
          "mesh3d": [
           {
            "colorbar": {
             "outlinewidth": 0,
             "ticks": ""
            },
            "type": "mesh3d"
           }
          ],
          "parcoords": [
           {
            "line": {
             "colorbar": {
              "outlinewidth": 0,
              "ticks": ""
             }
            },
            "type": "parcoords"
           }
          ],
          "pie": [
           {
            "automargin": true,
            "type": "pie"
           }
          ],
          "scatter": [
           {
            "fillpattern": {
             "fillmode": "overlay",
             "size": 10,
             "solidity": 0.2
            },
            "type": "scatter"
           }
          ],
          "scatter3d": [
           {
            "line": {
             "colorbar": {
              "outlinewidth": 0,
              "ticks": ""
             }
            },
            "marker": {
             "colorbar": {
              "outlinewidth": 0,
              "ticks": ""
             }
            },
            "type": "scatter3d"
           }
          ],
          "scattercarpet": [
           {
            "marker": {
             "colorbar": {
              "outlinewidth": 0,
              "ticks": ""
             }
            },
            "type": "scattercarpet"
           }
          ],
          "scattergeo": [
           {
            "marker": {
             "colorbar": {
              "outlinewidth": 0,
              "ticks": ""
             }
            },
            "type": "scattergeo"
           }
          ],
          "scattergl": [
           {
            "marker": {
             "colorbar": {
              "outlinewidth": 0,
              "ticks": ""
             }
            },
            "type": "scattergl"
           }
          ],
          "scattermap": [
           {
            "marker": {
             "colorbar": {
              "outlinewidth": 0,
              "ticks": ""
             }
            },
            "type": "scattermap"
           }
          ],
          "scattermapbox": [
           {
            "marker": {
             "colorbar": {
              "outlinewidth": 0,
              "ticks": ""
             }
            },
            "type": "scattermapbox"
           }
          ],
          "scatterpolar": [
           {
            "marker": {
             "colorbar": {
              "outlinewidth": 0,
              "ticks": ""
             }
            },
            "type": "scatterpolar"
           }
          ],
          "scatterpolargl": [
           {
            "marker": {
             "colorbar": {
              "outlinewidth": 0,
              "ticks": ""
             }
            },
            "type": "scatterpolargl"
           }
          ],
          "scatterternary": [
           {
            "marker": {
             "colorbar": {
              "outlinewidth": 0,
              "ticks": ""
             }
            },
            "type": "scatterternary"
           }
          ],
          "surface": [
           {
            "colorbar": {
             "outlinewidth": 0,
             "ticks": ""
            },
            "colorscale": [
             [
              0,
              "#0d0887"
             ],
             [
              0.1111111111111111,
              "#46039f"
             ],
             [
              0.2222222222222222,
              "#7201a8"
             ],
             [
              0.3333333333333333,
              "#9c179e"
             ],
             [
              0.4444444444444444,
              "#bd3786"
             ],
             [
              0.5555555555555556,
              "#d8576b"
             ],
             [
              0.6666666666666666,
              "#ed7953"
             ],
             [
              0.7777777777777778,
              "#fb9f3a"
             ],
             [
              0.8888888888888888,
              "#fdca26"
             ],
             [
              1,
              "#f0f921"
             ]
            ],
            "type": "surface"
           }
          ],
          "table": [
           {
            "cells": {
             "fill": {
              "color": "#EBF0F8"
             },
             "line": {
              "color": "white"
             }
            },
            "header": {
             "fill": {
              "color": "#C8D4E3"
             },
             "line": {
              "color": "white"
             }
            },
            "type": "table"
           }
          ]
         },
         "layout": {
          "annotationdefaults": {
           "arrowcolor": "#2a3f5f",
           "arrowhead": 0,
           "arrowwidth": 1
          },
          "autotypenumbers": "strict",
          "coloraxis": {
           "colorbar": {
            "outlinewidth": 0,
            "ticks": ""
           }
          },
          "colorscale": {
           "diverging": [
            [
             0,
             "#8e0152"
            ],
            [
             0.1,
             "#c51b7d"
            ],
            [
             0.2,
             "#de77ae"
            ],
            [
             0.3,
             "#f1b6da"
            ],
            [
             0.4,
             "#fde0ef"
            ],
            [
             0.5,
             "#f7f7f7"
            ],
            [
             0.6,
             "#e6f5d0"
            ],
            [
             0.7,
             "#b8e186"
            ],
            [
             0.8,
             "#7fbc41"
            ],
            [
             0.9,
             "#4d9221"
            ],
            [
             1,
             "#276419"
            ]
           ],
           "sequential": [
            [
             0,
             "#0d0887"
            ],
            [
             0.1111111111111111,
             "#46039f"
            ],
            [
             0.2222222222222222,
             "#7201a8"
            ],
            [
             0.3333333333333333,
             "#9c179e"
            ],
            [
             0.4444444444444444,
             "#bd3786"
            ],
            [
             0.5555555555555556,
             "#d8576b"
            ],
            [
             0.6666666666666666,
             "#ed7953"
            ],
            [
             0.7777777777777778,
             "#fb9f3a"
            ],
            [
             0.8888888888888888,
             "#fdca26"
            ],
            [
             1,
             "#f0f921"
            ]
           ],
           "sequentialminus": [
            [
             0,
             "#0d0887"
            ],
            [
             0.1111111111111111,
             "#46039f"
            ],
            [
             0.2222222222222222,
             "#7201a8"
            ],
            [
             0.3333333333333333,
             "#9c179e"
            ],
            [
             0.4444444444444444,
             "#bd3786"
            ],
            [
             0.5555555555555556,
             "#d8576b"
            ],
            [
             0.6666666666666666,
             "#ed7953"
            ],
            [
             0.7777777777777778,
             "#fb9f3a"
            ],
            [
             0.8888888888888888,
             "#fdca26"
            ],
            [
             1,
             "#f0f921"
            ]
           ]
          },
          "colorway": [
           "#636efa",
           "#EF553B",
           "#00cc96",
           "#ab63fa",
           "#FFA15A",
           "#19d3f3",
           "#FF6692",
           "#B6E880",
           "#FF97FF",
           "#FECB52"
          ],
          "font": {
           "color": "#2a3f5f"
          },
          "geo": {
           "bgcolor": "white",
           "lakecolor": "white",
           "landcolor": "#E5ECF6",
           "showlakes": true,
           "showland": true,
           "subunitcolor": "white"
          },
          "hoverlabel": {
           "align": "left"
          },
          "hovermode": "closest",
          "mapbox": {
           "style": "light"
          },
          "paper_bgcolor": "white",
          "plot_bgcolor": "#E5ECF6",
          "polar": {
           "angularaxis": {
            "gridcolor": "white",
            "linecolor": "white",
            "ticks": ""
           },
           "bgcolor": "#E5ECF6",
           "radialaxis": {
            "gridcolor": "white",
            "linecolor": "white",
            "ticks": ""
           }
          },
          "scene": {
           "xaxis": {
            "backgroundcolor": "#E5ECF6",
            "gridcolor": "white",
            "gridwidth": 2,
            "linecolor": "white",
            "showbackground": true,
            "ticks": "",
            "zerolinecolor": "white"
           },
           "yaxis": {
            "backgroundcolor": "#E5ECF6",
            "gridcolor": "white",
            "gridwidth": 2,
            "linecolor": "white",
            "showbackground": true,
            "ticks": "",
            "zerolinecolor": "white"
           },
           "zaxis": {
            "backgroundcolor": "#E5ECF6",
            "gridcolor": "white",
            "gridwidth": 2,
            "linecolor": "white",
            "showbackground": true,
            "ticks": "",
            "zerolinecolor": "white"
           }
          },
          "shapedefaults": {
           "line": {
            "color": "#2a3f5f"
           }
          },
          "ternary": {
           "aaxis": {
            "gridcolor": "white",
            "linecolor": "white",
            "ticks": ""
           },
           "baxis": {
            "gridcolor": "white",
            "linecolor": "white",
            "ticks": ""
           },
           "bgcolor": "#E5ECF6",
           "caxis": {
            "gridcolor": "white",
            "linecolor": "white",
            "ticks": ""
           }
          },
          "title": {
           "x": 0.05
          },
          "xaxis": {
           "automargin": true,
           "gridcolor": "white",
           "linecolor": "white",
           "ticks": "",
           "title": {
            "standoff": 15
           },
           "zerolinecolor": "white",
           "zerolinewidth": 2
          },
          "yaxis": {
           "automargin": true,
           "gridcolor": "white",
           "linecolor": "white",
           "ticks": "",
           "title": {
            "standoff": 15
           },
           "zerolinecolor": "white",
           "zerolinewidth": 2
          }
         }
        },
        "title": {
         "text": "KNMI Weather Station Locations"
        },
        "width": 1000
       }
      }
     },
     "metadata": {},
     "output_type": "display_data"
    }
   ],
   "source": [
    "fig = px.scatter_map(Weather_location, lat=\"LAT(north)\", lon=\"LON(east)\", hover_data=('STN','NAME','ALT(m)'),zoom=6.9, center={\"lat\":52.1010947603812, \"lon\":5.646120953892783}, map_style='carto-positron', title=\"KNMI Weather Station Locations\", width=1000, height=1000)\n",
    "fig.show()"
   ]
  },
  {
   "cell_type": "code",
   "execution_count": 28,
   "id": "763896c8",
   "metadata": {},
   "outputs": [
    {
     "data": {
      "application/vnd.plotly.v1+json": {
       "config": {
        "plotlyServerURL": "https://plot.ly"
       },
       "data": [
        {
         "customdata": [
          [
           215,
           "Voorschoten",
           -1.1
          ],
          [
           235,
           "De Kooy",
           1.2
          ],
          [
           240,
           "Schiphol",
           -3.3
          ],
          [
           249,
           "Berkhout",
           -2.4
          ],
          [
           251,
           "Hoorn Terschelling",
           0.7
          ],
          [
           260,
           "De Bilt",
           1.9
          ],
          [
           267,
           "Stavoren",
           -1.3
          ],
          [
           269,
           "Lelystad",
           -3.7
          ],
          [
           270,
           "Leeuwarden",
           1.2
          ],
          [
           273,
           "Marknesse",
           -3.3
          ],
          [
           275,
           "Deelen",
           48.2
          ],
          [
           277,
           "Lauwersoog",
           2.9
          ],
          [
           278,
           "Heino",
           3.6
          ],
          [
           279,
           "Hoogeveen",
           15.8
          ],
          [
           280,
           "Eelde",
           5.2
          ],
          [
           283,
           "Hupsel",
           29.1
          ],
          [
           286,
           "Nieuw Beerta",
           -0.2
          ],
          [
           290,
           "Twenthe",
           34.8
          ],
          [
           310,
           "Vlissingen",
           8
          ],
          [
           319,
           "Westdorpe",
           1.7
          ],
          [
           323,
           "Wilhelminadorp",
           1.4
          ],
          [
           330,
           "Hoek van Holland",
           11.9
          ],
          [
           340,
           "Woensdrecht",
           19.2
          ],
          [
           344,
           "Rotterdam",
           -4.3
          ],
          [
           348,
           "Cabauw Mast",
           -0.7
          ],
          [
           350,
           "Gilze-Rijen",
           14.9
          ],
          [
           356,
           "Herwijnen",
           0.7
          ],
          [
           370,
           "Eindhoven",
           22.6
          ],
          [
           375,
           "Volkel",
           22
          ],
          [
           377,
           "Ell",
           30
          ],
          [
           380,
           "Maastricht",
           114.3
          ],
          [
           392,
           "Horst",
           21.88
          ]
         ],
         "hovertemplate": "LAT(north)=%{lat}<br>LON(east)=%{lon}<br>STN=%{customdata[0]}<br>NAME=%{customdata[1]}<br>ALT(m)=%{customdata[2]}<extra></extra>",
         "lat": {
          "bdata": "NV66SQwSSkAQWDm0yHZKQGIQWDm0KEpA30+Nl25SSkAZBFYOLbJKQM3MzMzMDEpAbef7qfFySkC0yHa+nzpKQOkmMQisnEpARIts5/tZSkC6SQwCKwdKQL6fGi/dtEpASOF6FK43SkAAAAAAAGBKQAAAAAAAkEpARrbz/dQISkAMAiuHFplKQFCNl24SI0pAf2q8dJO4SUCwcmiR7ZxJQPp+arx0w0lA5dAi2/n+SUC28/3UeLlJQEJg5dAi+0lAXI/C9Sj8SUCcxCCwcshJQMuhRbbz7UlAfT81Xrq5SUAxCKwcWtRJQNNNYhBYmUlAhxbZzvdzSUD6QV2kUL5JQA==",
          "dtype": "f8"
         },
         "legendgroup": "",
         "lon": {
          "bdata": "c2iR7Xy/EUA5tMh2vh8TQClcj8L1KBNA0SLb+X7qE0D8qfHSTWIVQLgehetRuBRA8KfGSzeJFUAUrkfhehQWQDVeukkMAhdAWmQ730+NF0DLoUW2830XQM3MzMzMzBhA8KfGSzcJGUCyne+nxksaQNejcD0KVxpAVOOlm8SgGkCamZmZmZkcQKrx0k1ikBtA+FPjpZvEDEAX2c73U+MOQN9PjZduEg9AsHJoke18EECR7Xw/NV4RQH0/NV66yRFATmIQWDm0E0BYObTIdr4TQC/dJAaBlRRANV66SQyCFUCHFtnO99MWQFpkO99PDRdAPzVeukkMF0BslPWbiTkYQA==",
          "dtype": "f8"
         },
         "marker": {
          "color": "#636efa"
         },
         "mode": "markers",
         "name": "",
         "showlegend": false,
         "subplot": "map",
         "type": "scattermap"
        }
       ],
       "layout": {
        "height": 1000,
        "legend": {
         "tracegroupgap": 0
        },
        "map": {
         "center": {
          "lat": 52.1010947603812,
          "lon": 5.646120953892783
         },
         "domain": {
          "x": [
           0,
           1
          ],
          "y": [
           0,
           1
          ]
         },
         "style": "carto-positron",
         "zoom": 6.9
        },
        "mapbox": {
         "center": {
          "lat": 52.1010947603812,
          "lon": 5.646120953892783
         },
         "style": "carto-positron",
         "zoom": 6.9
        },
        "template": {
         "data": {
          "bar": [
           {
            "error_x": {
             "color": "#2a3f5f"
            },
            "error_y": {
             "color": "#2a3f5f"
            },
            "marker": {
             "line": {
              "color": "#E5ECF6",
              "width": 0.5
             },
             "pattern": {
              "fillmode": "overlay",
              "size": 10,
              "solidity": 0.2
             }
            },
            "type": "bar"
           }
          ],
          "barpolar": [
           {
            "marker": {
             "line": {
              "color": "#E5ECF6",
              "width": 0.5
             },
             "pattern": {
              "fillmode": "overlay",
              "size": 10,
              "solidity": 0.2
             }
            },
            "type": "barpolar"
           }
          ],
          "carpet": [
           {
            "aaxis": {
             "endlinecolor": "#2a3f5f",
             "gridcolor": "white",
             "linecolor": "white",
             "minorgridcolor": "white",
             "startlinecolor": "#2a3f5f"
            },
            "baxis": {
             "endlinecolor": "#2a3f5f",
             "gridcolor": "white",
             "linecolor": "white",
             "minorgridcolor": "white",
             "startlinecolor": "#2a3f5f"
            },
            "type": "carpet"
           }
          ],
          "choropleth": [
           {
            "colorbar": {
             "outlinewidth": 0,
             "ticks": ""
            },
            "type": "choropleth"
           }
          ],
          "contour": [
           {
            "colorbar": {
             "outlinewidth": 0,
             "ticks": ""
            },
            "colorscale": [
             [
              0,
              "#0d0887"
             ],
             [
              0.1111111111111111,
              "#46039f"
             ],
             [
              0.2222222222222222,
              "#7201a8"
             ],
             [
              0.3333333333333333,
              "#9c179e"
             ],
             [
              0.4444444444444444,
              "#bd3786"
             ],
             [
              0.5555555555555556,
              "#d8576b"
             ],
             [
              0.6666666666666666,
              "#ed7953"
             ],
             [
              0.7777777777777778,
              "#fb9f3a"
             ],
             [
              0.8888888888888888,
              "#fdca26"
             ],
             [
              1,
              "#f0f921"
             ]
            ],
            "type": "contour"
           }
          ],
          "contourcarpet": [
           {
            "colorbar": {
             "outlinewidth": 0,
             "ticks": ""
            },
            "type": "contourcarpet"
           }
          ],
          "heatmap": [
           {
            "colorbar": {
             "outlinewidth": 0,
             "ticks": ""
            },
            "colorscale": [
             [
              0,
              "#0d0887"
             ],
             [
              0.1111111111111111,
              "#46039f"
             ],
             [
              0.2222222222222222,
              "#7201a8"
             ],
             [
              0.3333333333333333,
              "#9c179e"
             ],
             [
              0.4444444444444444,
              "#bd3786"
             ],
             [
              0.5555555555555556,
              "#d8576b"
             ],
             [
              0.6666666666666666,
              "#ed7953"
             ],
             [
              0.7777777777777778,
              "#fb9f3a"
             ],
             [
              0.8888888888888888,
              "#fdca26"
             ],
             [
              1,
              "#f0f921"
             ]
            ],
            "type": "heatmap"
           }
          ],
          "histogram": [
           {
            "marker": {
             "pattern": {
              "fillmode": "overlay",
              "size": 10,
              "solidity": 0.2
             }
            },
            "type": "histogram"
           }
          ],
          "histogram2d": [
           {
            "colorbar": {
             "outlinewidth": 0,
             "ticks": ""
            },
            "colorscale": [
             [
              0,
              "#0d0887"
             ],
             [
              0.1111111111111111,
              "#46039f"
             ],
             [
              0.2222222222222222,
              "#7201a8"
             ],
             [
              0.3333333333333333,
              "#9c179e"
             ],
             [
              0.4444444444444444,
              "#bd3786"
             ],
             [
              0.5555555555555556,
              "#d8576b"
             ],
             [
              0.6666666666666666,
              "#ed7953"
             ],
             [
              0.7777777777777778,
              "#fb9f3a"
             ],
             [
              0.8888888888888888,
              "#fdca26"
             ],
             [
              1,
              "#f0f921"
             ]
            ],
            "type": "histogram2d"
           }
          ],
          "histogram2dcontour": [
           {
            "colorbar": {
             "outlinewidth": 0,
             "ticks": ""
            },
            "colorscale": [
             [
              0,
              "#0d0887"
             ],
             [
              0.1111111111111111,
              "#46039f"
             ],
             [
              0.2222222222222222,
              "#7201a8"
             ],
             [
              0.3333333333333333,
              "#9c179e"
             ],
             [
              0.4444444444444444,
              "#bd3786"
             ],
             [
              0.5555555555555556,
              "#d8576b"
             ],
             [
              0.6666666666666666,
              "#ed7953"
             ],
             [
              0.7777777777777778,
              "#fb9f3a"
             ],
             [
              0.8888888888888888,
              "#fdca26"
             ],
             [
              1,
              "#f0f921"
             ]
            ],
            "type": "histogram2dcontour"
           }
          ],
          "mesh3d": [
           {
            "colorbar": {
             "outlinewidth": 0,
             "ticks": ""
            },
            "type": "mesh3d"
           }
          ],
          "parcoords": [
           {
            "line": {
             "colorbar": {
              "outlinewidth": 0,
              "ticks": ""
             }
            },
            "type": "parcoords"
           }
          ],
          "pie": [
           {
            "automargin": true,
            "type": "pie"
           }
          ],
          "scatter": [
           {
            "fillpattern": {
             "fillmode": "overlay",
             "size": 10,
             "solidity": 0.2
            },
            "type": "scatter"
           }
          ],
          "scatter3d": [
           {
            "line": {
             "colorbar": {
              "outlinewidth": 0,
              "ticks": ""
             }
            },
            "marker": {
             "colorbar": {
              "outlinewidth": 0,
              "ticks": ""
             }
            },
            "type": "scatter3d"
           }
          ],
          "scattercarpet": [
           {
            "marker": {
             "colorbar": {
              "outlinewidth": 0,
              "ticks": ""
             }
            },
            "type": "scattercarpet"
           }
          ],
          "scattergeo": [
           {
            "marker": {
             "colorbar": {
              "outlinewidth": 0,
              "ticks": ""
             }
            },
            "type": "scattergeo"
           }
          ],
          "scattergl": [
           {
            "marker": {
             "colorbar": {
              "outlinewidth": 0,
              "ticks": ""
             }
            },
            "type": "scattergl"
           }
          ],
          "scattermap": [
           {
            "marker": {
             "colorbar": {
              "outlinewidth": 0,
              "ticks": ""
             }
            },
            "type": "scattermap"
           }
          ],
          "scattermapbox": [
           {
            "marker": {
             "colorbar": {
              "outlinewidth": 0,
              "ticks": ""
             }
            },
            "type": "scattermapbox"
           }
          ],
          "scatterpolar": [
           {
            "marker": {
             "colorbar": {
              "outlinewidth": 0,
              "ticks": ""
             }
            },
            "type": "scatterpolar"
           }
          ],
          "scatterpolargl": [
           {
            "marker": {
             "colorbar": {
              "outlinewidth": 0,
              "ticks": ""
             }
            },
            "type": "scatterpolargl"
           }
          ],
          "scatterternary": [
           {
            "marker": {
             "colorbar": {
              "outlinewidth": 0,
              "ticks": ""
             }
            },
            "type": "scatterternary"
           }
          ],
          "surface": [
           {
            "colorbar": {
             "outlinewidth": 0,
             "ticks": ""
            },
            "colorscale": [
             [
              0,
              "#0d0887"
             ],
             [
              0.1111111111111111,
              "#46039f"
             ],
             [
              0.2222222222222222,
              "#7201a8"
             ],
             [
              0.3333333333333333,
              "#9c179e"
             ],
             [
              0.4444444444444444,
              "#bd3786"
             ],
             [
              0.5555555555555556,
              "#d8576b"
             ],
             [
              0.6666666666666666,
              "#ed7953"
             ],
             [
              0.7777777777777778,
              "#fb9f3a"
             ],
             [
              0.8888888888888888,
              "#fdca26"
             ],
             [
              1,
              "#f0f921"
             ]
            ],
            "type": "surface"
           }
          ],
          "table": [
           {
            "cells": {
             "fill": {
              "color": "#EBF0F8"
             },
             "line": {
              "color": "white"
             }
            },
            "header": {
             "fill": {
              "color": "#C8D4E3"
             },
             "line": {
              "color": "white"
             }
            },
            "type": "table"
           }
          ]
         },
         "layout": {
          "annotationdefaults": {
           "arrowcolor": "#2a3f5f",
           "arrowhead": 0,
           "arrowwidth": 1
          },
          "autotypenumbers": "strict",
          "coloraxis": {
           "colorbar": {
            "outlinewidth": 0,
            "ticks": ""
           }
          },
          "colorscale": {
           "diverging": [
            [
             0,
             "#8e0152"
            ],
            [
             0.1,
             "#c51b7d"
            ],
            [
             0.2,
             "#de77ae"
            ],
            [
             0.3,
             "#f1b6da"
            ],
            [
             0.4,
             "#fde0ef"
            ],
            [
             0.5,
             "#f7f7f7"
            ],
            [
             0.6,
             "#e6f5d0"
            ],
            [
             0.7,
             "#b8e186"
            ],
            [
             0.8,
             "#7fbc41"
            ],
            [
             0.9,
             "#4d9221"
            ],
            [
             1,
             "#276419"
            ]
           ],
           "sequential": [
            [
             0,
             "#0d0887"
            ],
            [
             0.1111111111111111,
             "#46039f"
            ],
            [
             0.2222222222222222,
             "#7201a8"
            ],
            [
             0.3333333333333333,
             "#9c179e"
            ],
            [
             0.4444444444444444,
             "#bd3786"
            ],
            [
             0.5555555555555556,
             "#d8576b"
            ],
            [
             0.6666666666666666,
             "#ed7953"
            ],
            [
             0.7777777777777778,
             "#fb9f3a"
            ],
            [
             0.8888888888888888,
             "#fdca26"
            ],
            [
             1,
             "#f0f921"
            ]
           ],
           "sequentialminus": [
            [
             0,
             "#0d0887"
            ],
            [
             0.1111111111111111,
             "#46039f"
            ],
            [
             0.2222222222222222,
             "#7201a8"
            ],
            [
             0.3333333333333333,
             "#9c179e"
            ],
            [
             0.4444444444444444,
             "#bd3786"
            ],
            [
             0.5555555555555556,
             "#d8576b"
            ],
            [
             0.6666666666666666,
             "#ed7953"
            ],
            [
             0.7777777777777778,
             "#fb9f3a"
            ],
            [
             0.8888888888888888,
             "#fdca26"
            ],
            [
             1,
             "#f0f921"
            ]
           ]
          },
          "colorway": [
           "#636efa",
           "#EF553B",
           "#00cc96",
           "#ab63fa",
           "#FFA15A",
           "#19d3f3",
           "#FF6692",
           "#B6E880",
           "#FF97FF",
           "#FECB52"
          ],
          "font": {
           "color": "#2a3f5f"
          },
          "geo": {
           "bgcolor": "white",
           "lakecolor": "white",
           "landcolor": "#E5ECF6",
           "showlakes": true,
           "showland": true,
           "subunitcolor": "white"
          },
          "hoverlabel": {
           "align": "left"
          },
          "hovermode": "closest",
          "mapbox": {
           "style": "light"
          },
          "paper_bgcolor": "white",
          "plot_bgcolor": "#E5ECF6",
          "polar": {
           "angularaxis": {
            "gridcolor": "white",
            "linecolor": "white",
            "ticks": ""
           },
           "bgcolor": "#E5ECF6",
           "radialaxis": {
            "gridcolor": "white",
            "linecolor": "white",
            "ticks": ""
           }
          },
          "scene": {
           "xaxis": {
            "backgroundcolor": "#E5ECF6",
            "gridcolor": "white",
            "gridwidth": 2,
            "linecolor": "white",
            "showbackground": true,
            "ticks": "",
            "zerolinecolor": "white"
           },
           "yaxis": {
            "backgroundcolor": "#E5ECF6",
            "gridcolor": "white",
            "gridwidth": 2,
            "linecolor": "white",
            "showbackground": true,
            "ticks": "",
            "zerolinecolor": "white"
           },
           "zaxis": {
            "backgroundcolor": "#E5ECF6",
            "gridcolor": "white",
            "gridwidth": 2,
            "linecolor": "white",
            "showbackground": true,
            "ticks": "",
            "zerolinecolor": "white"
           }
          },
          "shapedefaults": {
           "line": {
            "color": "#2a3f5f"
           }
          },
          "ternary": {
           "aaxis": {
            "gridcolor": "white",
            "linecolor": "white",
            "ticks": ""
           },
           "baxis": {
            "gridcolor": "white",
            "linecolor": "white",
            "ticks": ""
           },
           "bgcolor": "#E5ECF6",
           "caxis": {
            "gridcolor": "white",
            "linecolor": "white",
            "ticks": ""
           }
          },
          "title": {
           "x": 0.05
          },
          "xaxis": {
           "automargin": true,
           "gridcolor": "white",
           "linecolor": "white",
           "ticks": "",
           "title": {
            "standoff": 15
           },
           "zerolinecolor": "white",
           "zerolinewidth": 2
          },
          "yaxis": {
           "automargin": true,
           "gridcolor": "white",
           "linecolor": "white",
           "ticks": "",
           "title": {
            "standoff": 15
           },
           "zerolinecolor": "white",
           "zerolinewidth": 2
          }
         }
        },
        "title": {
         "text": "Used KNMI Weather Station Locations"
        },
        "width": 1000
       }
      }
     },
     "metadata": {},
     "output_type": "display_data"
    }
   ],
   "source": [
    "fig2 = px.scatter_map(\n",
    "    Active_Weather_Station_Location,\n",
    "    lat=\"LAT(north)\",\n",
    "    lon=\"LON(east)\",\n",
    "    hover_data=['STN', 'NAME', 'ALT(m)'],\n",
    "    zoom=6.9,\n",
    "    center={\"lat\": 52.1010947603812, \"lon\": 5.646120953892783},\n",
    "     map_style='carto-positron',\n",
    "    title=\"Used KNMI Weather Station Locations\",\n",
    "    width=1000,\n",
    "    height=1000\n",
    ")\n",
    "fig2.show()\n"
   ]
  },
  {
   "cell_type": "code",
   "execution_count": 29,
   "id": "fd65d839",
   "metadata": {},
   "outputs": [],
   "source": [
    "combined_data = pd.concat([Weather_location, Active_Weather_Station_Location], ignore_index=True) #This is used to combine the two together for creating a joint plot\n"
   ]
  },
  {
   "cell_type": "code",
   "execution_count": 30,
   "id": "6dd7fc44",
   "metadata": {},
   "outputs": [
    {
     "data": {
      "application/vnd.plotly.v1+json": {
       "config": {
        "plotlyServerURL": "https://plot.ly"
       },
       "data": [
        {
         "customdata": [
          [
           209,
           "IJmond",
           0
          ],
          [
           210,
           "Valkenburg Zh",
           -0.2
          ],
          [
           215,
           "Voorschoten",
           -1.1
          ],
          [
           225,
           "IJmuiden",
           4.4
          ],
          [
           235,
           "De Kooy",
           1.2
          ],
          [
           240,
           "Schiphol",
           -3.3
          ],
          [
           242,
           "Vlieland",
           10.8
          ],
          [
           248,
           "Wijdenes",
           0.8
          ],
          [
           249,
           "Berkhout",
           -2.4
          ],
          [
           251,
           "Hoorn Terschelling",
           0.7
          ],
          [
           257,
           "Wijk aan Zee",
           8.5
          ],
          [
           258,
           "Houtribdijk",
           7.3
          ],
          [
           260,
           "De Bilt",
           1.9
          ],
          [
           265,
           "Soesterberg",
           13.9
          ],
          [
           267,
           "Stavoren",
           -1.3
          ],
          [
           269,
           "Lelystad",
           -3.7
          ],
          [
           270,
           "Leeuwarden",
           1.2
          ],
          [
           273,
           "Marknesse",
           -3.3
          ],
          [
           275,
           "Deelen",
           48.2
          ],
          [
           277,
           "Lauwersoog",
           2.9
          ],
          [
           278,
           "Heino",
           3.6
          ],
          [
           279,
           "Hoogeveen",
           15.8
          ],
          [
           280,
           "Eelde",
           5.2
          ],
          [
           283,
           "Hupsel",
           29.1
          ],
          [
           285,
           "Huibertgat",
           0
          ],
          [
           286,
           "Nieuw Beerta",
           -0.2
          ],
          [
           290,
           "Twenthe",
           34.8
          ],
          [
           308,
           "Cadzand",
           0
          ],
          [
           310,
           "Vlissingen",
           8
          ],
          [
           311,
           "Hoofdplaat",
           0
          ],
          [
           312,
           "Oosterschelde",
           0
          ],
          [
           313,
           "Vlakte van De Raan",
           0
          ],
          [
           315,
           "Hansweert",
           0
          ],
          [
           316,
           "Schaar",
           0
          ],
          [
           319,
           "Westdorpe",
           1.7
          ],
          [
           323,
           "Wilhelminadorp",
           1.4
          ],
          [
           324,
           "Stavenisse",
           0
          ],
          [
           330,
           "Hoek van Holland",
           11.9
          ],
          [
           331,
           "Tholen",
           0
          ],
          [
           340,
           "Woensdrecht",
           19.2
          ],
          [
           343,
           "Rotterdam Geulhaven",
           3.5
          ],
          [
           344,
           "Rotterdam",
           -4.3
          ],
          [
           348,
           "Cabauw Mast",
           -0.7
          ],
          [
           350,
           "Gilze-Rijen",
           14.9
          ],
          [
           356,
           "Herwijnen",
           0.7
          ],
          [
           370,
           "Eindhoven",
           22.6
          ],
          [
           375,
           "Volkel",
           22
          ],
          [
           377,
           "Ell",
           30
          ],
          [
           380,
           "Maastricht",
           114.3
          ],
          [
           391,
           "Arcen",
           19.5
          ],
          [
           392,
           "Horst",
           21.88
          ]
         ],
         "hovertemplate": "Type=All Stations<br>LAT(north)=%{lat}<br>LON(east)=%{lon}<br>STN=%{customdata[0]}<br>NAME=%{customdata[1]}<br>ALT(m)=%{customdata[2]}<extra></extra>",
         "lat": {
          "bdata": "7FG4HoU7SkDZzvdT4xVKQDVeukkMEkpAJQaBlUM7SkAQWDm0yHZKQGIQWDm0KEpAAiuHFtmeSkD+1HjpJlFKQN9PjZduUkpAGQRWDi2ySkBU46WbxEBKQFCNl24SU0pAzczMzMwMSkBxPQrXoxBKQG3n+6nxckpAtMh2vp86SkDpJjEIrJxKQESLbOf7WUpAukkMAisHSkC+nxov3bRKQEjhehSuN0pAAAAAAABgSkAAAAAAAJBKQEa28/3UCEpAmpmZmZnJSkAMAiuHFplKQFCNl24SI0pAVOOlm8SwSUB/arx0k7hJQI2XbhKDsElA/Knx0k3iSUBxPQrXo8BJQPCnxks3uUlAarx0kxjUSUCwcmiR7ZxJQPp+arx0w0lAPzVeuknMSUDl0CLb+f5JQD0K16NwvUlAtvP91Hi5SUD8qfHSTfJJQEJg5dAi+0lAXI/C9Sj8SUCcxCCwcshJQMuhRbbz7UlAfT81Xrq5SUAxCKwcWtRJQNNNYhBYmUlAhxbZzvdzSUA5tMh2vr9JQPpBXaRQvklA",
          "dtype": "f8"
         },
         "legendgroup": "All Stations",
         "lon": {
          "bdata": "30+Nl24SEkC4HoXrUbgRQHNoke18vxFAuB6F61E4EkA5tMh2vh8TQClcj8L1KBNAyXa+nxqvE0AZBFYOLbIUQNEi2/l+6hNA/Knx0k1iFUC28/3UeGkSQLTIdr6fmhVAuB6F61G4FEB/arx0kxgVQPCnxks3iRVAFK5H4XoUFkA1XrpJDAIXQFpkO99PjRdAy6FFtvN9F0DNzMzMzMwYQPCnxks3CRlAsp3vp8ZLGkDXo3A9ClcaQFTjpZvEoBpAf2q8dJOYGUCamZmZmZkcQKrx0k1ikBtA1XjpJjEIC0D4U+Olm8QMQMdLN4lBYA1AYOXQItv5DEBWDi2yne8JQJZDi2zn+w9AWmQ730+NDUAX2c73U+MOQN9PjZduEg9AoBov3SQGEECwcmiR7XwQQBKDwMqhxRBAke18PzVeEUCNl24Sg0ARQH0/NV66yRFATmIQWDm0E0BYObTIdr4TQC/dJAaBlRRANV66SQyCFUCHFtnO99MWQFpkO99PDRdAPzVeukkMF0B9PzVeuskYQGyU9ZuJORhA",
          "dtype": "f8"
         },
         "marker": {
          "color": "#636efa"
         },
         "mode": "markers",
         "name": "All Stations",
         "showlegend": true,
         "subplot": "map",
         "type": "scattermap"
        },
        {
         "customdata": [
          [
           215,
           "Voorschoten",
           -1.1
          ],
          [
           235,
           "De Kooy",
           1.2
          ],
          [
           240,
           "Schiphol",
           -3.3
          ],
          [
           249,
           "Berkhout",
           -2.4
          ],
          [
           251,
           "Hoorn Terschelling",
           0.7
          ],
          [
           260,
           "De Bilt",
           1.9
          ],
          [
           267,
           "Stavoren",
           -1.3
          ],
          [
           269,
           "Lelystad",
           -3.7
          ],
          [
           270,
           "Leeuwarden",
           1.2
          ],
          [
           273,
           "Marknesse",
           -3.3
          ],
          [
           275,
           "Deelen",
           48.2
          ],
          [
           277,
           "Lauwersoog",
           2.9
          ],
          [
           278,
           "Heino",
           3.6
          ],
          [
           279,
           "Hoogeveen",
           15.8
          ],
          [
           280,
           "Eelde",
           5.2
          ],
          [
           283,
           "Hupsel",
           29.1
          ],
          [
           286,
           "Nieuw Beerta",
           -0.2
          ],
          [
           290,
           "Twenthe",
           34.8
          ],
          [
           310,
           "Vlissingen",
           8
          ],
          [
           319,
           "Westdorpe",
           1.7
          ],
          [
           323,
           "Wilhelminadorp",
           1.4
          ],
          [
           330,
           "Hoek van Holland",
           11.9
          ],
          [
           340,
           "Woensdrecht",
           19.2
          ],
          [
           344,
           "Rotterdam",
           -4.3
          ],
          [
           348,
           "Cabauw Mast",
           -0.7
          ],
          [
           350,
           "Gilze-Rijen",
           14.9
          ],
          [
           356,
           "Herwijnen",
           0.7
          ],
          [
           370,
           "Eindhoven",
           22.6
          ],
          [
           375,
           "Volkel",
           22
          ],
          [
           377,
           "Ell",
           30
          ],
          [
           380,
           "Maastricht",
           114.3
          ],
          [
           392,
           "Horst",
           21.88
          ]
         ],
         "hovertemplate": "Type=Usable Stations<br>LAT(north)=%{lat}<br>LON(east)=%{lon}<br>STN=%{customdata[0]}<br>NAME=%{customdata[1]}<br>ALT(m)=%{customdata[2]}<extra></extra>",
         "lat": {
          "bdata": "NV66SQwSSkAQWDm0yHZKQGIQWDm0KEpA30+Nl25SSkAZBFYOLbJKQM3MzMzMDEpAbef7qfFySkC0yHa+nzpKQOkmMQisnEpARIts5/tZSkC6SQwCKwdKQL6fGi/dtEpASOF6FK43SkAAAAAAAGBKQAAAAAAAkEpARrbz/dQISkAMAiuHFplKQFCNl24SI0pAf2q8dJO4SUCwcmiR7ZxJQPp+arx0w0lA5dAi2/n+SUC28/3UeLlJQEJg5dAi+0lAXI/C9Sj8SUCcxCCwcshJQMuhRbbz7UlAfT81Xrq5SUAxCKwcWtRJQNNNYhBYmUlAhxbZzvdzSUD6QV2kUL5JQA==",
          "dtype": "f8"
         },
         "legendgroup": "Usable Stations",
         "lon": {
          "bdata": "c2iR7Xy/EUA5tMh2vh8TQClcj8L1KBNA0SLb+X7qE0D8qfHSTWIVQLgehetRuBRA8KfGSzeJFUAUrkfhehQWQDVeukkMAhdAWmQ730+NF0DLoUW2830XQM3MzMzMzBhA8KfGSzcJGUCyne+nxksaQNejcD0KVxpAVOOlm8SgGkCamZmZmZkcQKrx0k1ikBtA+FPjpZvEDEAX2c73U+MOQN9PjZduEg9AsHJoke18EECR7Xw/NV4RQH0/NV66yRFATmIQWDm0E0BYObTIdr4TQC/dJAaBlRRANV66SQyCFUCHFtnO99MWQFpkO99PDRdAPzVeukkMF0BslPWbiTkYQA==",
          "dtype": "f8"
         },
         "marker": {
          "color": "#EF553B"
         },
         "mode": "markers",
         "name": "Usable Stations",
         "showlegend": true,
         "subplot": "map",
         "type": "scattermap"
        }
       ],
       "layout": {
        "height": 1000,
        "legend": {
         "title": {
          "text": "Type"
         },
         "tracegroupgap": 0
        },
        "map": {
         "center": {
          "lat": 52.1010947603812,
          "lon": 5.646120953892783
         },
         "domain": {
          "x": [
           0,
           1
          ],
          "y": [
           0,
           1
          ]
         },
         "style": "carto-positron",
         "zoom": 6.9
        },
        "mapbox": {
         "center": {
          "lat": 52.1010947603812,
          "lon": 5.646120953892783
         },
         "style": "carto-positron",
         "zoom": 6.9
        },
        "template": {
         "data": {
          "bar": [
           {
            "error_x": {
             "color": "#2a3f5f"
            },
            "error_y": {
             "color": "#2a3f5f"
            },
            "marker": {
             "line": {
              "color": "#E5ECF6",
              "width": 0.5
             },
             "pattern": {
              "fillmode": "overlay",
              "size": 10,
              "solidity": 0.2
             }
            },
            "type": "bar"
           }
          ],
          "barpolar": [
           {
            "marker": {
             "line": {
              "color": "#E5ECF6",
              "width": 0.5
             },
             "pattern": {
              "fillmode": "overlay",
              "size": 10,
              "solidity": 0.2
             }
            },
            "type": "barpolar"
           }
          ],
          "carpet": [
           {
            "aaxis": {
             "endlinecolor": "#2a3f5f",
             "gridcolor": "white",
             "linecolor": "white",
             "minorgridcolor": "white",
             "startlinecolor": "#2a3f5f"
            },
            "baxis": {
             "endlinecolor": "#2a3f5f",
             "gridcolor": "white",
             "linecolor": "white",
             "minorgridcolor": "white",
             "startlinecolor": "#2a3f5f"
            },
            "type": "carpet"
           }
          ],
          "choropleth": [
           {
            "colorbar": {
             "outlinewidth": 0,
             "ticks": ""
            },
            "type": "choropleth"
           }
          ],
          "contour": [
           {
            "colorbar": {
             "outlinewidth": 0,
             "ticks": ""
            },
            "colorscale": [
             [
              0,
              "#0d0887"
             ],
             [
              0.1111111111111111,
              "#46039f"
             ],
             [
              0.2222222222222222,
              "#7201a8"
             ],
             [
              0.3333333333333333,
              "#9c179e"
             ],
             [
              0.4444444444444444,
              "#bd3786"
             ],
             [
              0.5555555555555556,
              "#d8576b"
             ],
             [
              0.6666666666666666,
              "#ed7953"
             ],
             [
              0.7777777777777778,
              "#fb9f3a"
             ],
             [
              0.8888888888888888,
              "#fdca26"
             ],
             [
              1,
              "#f0f921"
             ]
            ],
            "type": "contour"
           }
          ],
          "contourcarpet": [
           {
            "colorbar": {
             "outlinewidth": 0,
             "ticks": ""
            },
            "type": "contourcarpet"
           }
          ],
          "heatmap": [
           {
            "colorbar": {
             "outlinewidth": 0,
             "ticks": ""
            },
            "colorscale": [
             [
              0,
              "#0d0887"
             ],
             [
              0.1111111111111111,
              "#46039f"
             ],
             [
              0.2222222222222222,
              "#7201a8"
             ],
             [
              0.3333333333333333,
              "#9c179e"
             ],
             [
              0.4444444444444444,
              "#bd3786"
             ],
             [
              0.5555555555555556,
              "#d8576b"
             ],
             [
              0.6666666666666666,
              "#ed7953"
             ],
             [
              0.7777777777777778,
              "#fb9f3a"
             ],
             [
              0.8888888888888888,
              "#fdca26"
             ],
             [
              1,
              "#f0f921"
             ]
            ],
            "type": "heatmap"
           }
          ],
          "histogram": [
           {
            "marker": {
             "pattern": {
              "fillmode": "overlay",
              "size": 10,
              "solidity": 0.2
             }
            },
            "type": "histogram"
           }
          ],
          "histogram2d": [
           {
            "colorbar": {
             "outlinewidth": 0,
             "ticks": ""
            },
            "colorscale": [
             [
              0,
              "#0d0887"
             ],
             [
              0.1111111111111111,
              "#46039f"
             ],
             [
              0.2222222222222222,
              "#7201a8"
             ],
             [
              0.3333333333333333,
              "#9c179e"
             ],
             [
              0.4444444444444444,
              "#bd3786"
             ],
             [
              0.5555555555555556,
              "#d8576b"
             ],
             [
              0.6666666666666666,
              "#ed7953"
             ],
             [
              0.7777777777777778,
              "#fb9f3a"
             ],
             [
              0.8888888888888888,
              "#fdca26"
             ],
             [
              1,
              "#f0f921"
             ]
            ],
            "type": "histogram2d"
           }
          ],
          "histogram2dcontour": [
           {
            "colorbar": {
             "outlinewidth": 0,
             "ticks": ""
            },
            "colorscale": [
             [
              0,
              "#0d0887"
             ],
             [
              0.1111111111111111,
              "#46039f"
             ],
             [
              0.2222222222222222,
              "#7201a8"
             ],
             [
              0.3333333333333333,
              "#9c179e"
             ],
             [
              0.4444444444444444,
              "#bd3786"
             ],
             [
              0.5555555555555556,
              "#d8576b"
             ],
             [
              0.6666666666666666,
              "#ed7953"
             ],
             [
              0.7777777777777778,
              "#fb9f3a"
             ],
             [
              0.8888888888888888,
              "#fdca26"
             ],
             [
              1,
              "#f0f921"
             ]
            ],
            "type": "histogram2dcontour"
           }
          ],
          "mesh3d": [
           {
            "colorbar": {
             "outlinewidth": 0,
             "ticks": ""
            },
            "type": "mesh3d"
           }
          ],
          "parcoords": [
           {
            "line": {
             "colorbar": {
              "outlinewidth": 0,
              "ticks": ""
             }
            },
            "type": "parcoords"
           }
          ],
          "pie": [
           {
            "automargin": true,
            "type": "pie"
           }
          ],
          "scatter": [
           {
            "fillpattern": {
             "fillmode": "overlay",
             "size": 10,
             "solidity": 0.2
            },
            "type": "scatter"
           }
          ],
          "scatter3d": [
           {
            "line": {
             "colorbar": {
              "outlinewidth": 0,
              "ticks": ""
             }
            },
            "marker": {
             "colorbar": {
              "outlinewidth": 0,
              "ticks": ""
             }
            },
            "type": "scatter3d"
           }
          ],
          "scattercarpet": [
           {
            "marker": {
             "colorbar": {
              "outlinewidth": 0,
              "ticks": ""
             }
            },
            "type": "scattercarpet"
           }
          ],
          "scattergeo": [
           {
            "marker": {
             "colorbar": {
              "outlinewidth": 0,
              "ticks": ""
             }
            },
            "type": "scattergeo"
           }
          ],
          "scattergl": [
           {
            "marker": {
             "colorbar": {
              "outlinewidth": 0,
              "ticks": ""
             }
            },
            "type": "scattergl"
           }
          ],
          "scattermap": [
           {
            "marker": {
             "colorbar": {
              "outlinewidth": 0,
              "ticks": ""
             }
            },
            "type": "scattermap"
           }
          ],
          "scattermapbox": [
           {
            "marker": {
             "colorbar": {
              "outlinewidth": 0,
              "ticks": ""
             }
            },
            "type": "scattermapbox"
           }
          ],
          "scatterpolar": [
           {
            "marker": {
             "colorbar": {
              "outlinewidth": 0,
              "ticks": ""
             }
            },
            "type": "scatterpolar"
           }
          ],
          "scatterpolargl": [
           {
            "marker": {
             "colorbar": {
              "outlinewidth": 0,
              "ticks": ""
             }
            },
            "type": "scatterpolargl"
           }
          ],
          "scatterternary": [
           {
            "marker": {
             "colorbar": {
              "outlinewidth": 0,
              "ticks": ""
             }
            },
            "type": "scatterternary"
           }
          ],
          "surface": [
           {
            "colorbar": {
             "outlinewidth": 0,
             "ticks": ""
            },
            "colorscale": [
             [
              0,
              "#0d0887"
             ],
             [
              0.1111111111111111,
              "#46039f"
             ],
             [
              0.2222222222222222,
              "#7201a8"
             ],
             [
              0.3333333333333333,
              "#9c179e"
             ],
             [
              0.4444444444444444,
              "#bd3786"
             ],
             [
              0.5555555555555556,
              "#d8576b"
             ],
             [
              0.6666666666666666,
              "#ed7953"
             ],
             [
              0.7777777777777778,
              "#fb9f3a"
             ],
             [
              0.8888888888888888,
              "#fdca26"
             ],
             [
              1,
              "#f0f921"
             ]
            ],
            "type": "surface"
           }
          ],
          "table": [
           {
            "cells": {
             "fill": {
              "color": "#EBF0F8"
             },
             "line": {
              "color": "white"
             }
            },
            "header": {
             "fill": {
              "color": "#C8D4E3"
             },
             "line": {
              "color": "white"
             }
            },
            "type": "table"
           }
          ]
         },
         "layout": {
          "annotationdefaults": {
           "arrowcolor": "#2a3f5f",
           "arrowhead": 0,
           "arrowwidth": 1
          },
          "autotypenumbers": "strict",
          "coloraxis": {
           "colorbar": {
            "outlinewidth": 0,
            "ticks": ""
           }
          },
          "colorscale": {
           "diverging": [
            [
             0,
             "#8e0152"
            ],
            [
             0.1,
             "#c51b7d"
            ],
            [
             0.2,
             "#de77ae"
            ],
            [
             0.3,
             "#f1b6da"
            ],
            [
             0.4,
             "#fde0ef"
            ],
            [
             0.5,
             "#f7f7f7"
            ],
            [
             0.6,
             "#e6f5d0"
            ],
            [
             0.7,
             "#b8e186"
            ],
            [
             0.8,
             "#7fbc41"
            ],
            [
             0.9,
             "#4d9221"
            ],
            [
             1,
             "#276419"
            ]
           ],
           "sequential": [
            [
             0,
             "#0d0887"
            ],
            [
             0.1111111111111111,
             "#46039f"
            ],
            [
             0.2222222222222222,
             "#7201a8"
            ],
            [
             0.3333333333333333,
             "#9c179e"
            ],
            [
             0.4444444444444444,
             "#bd3786"
            ],
            [
             0.5555555555555556,
             "#d8576b"
            ],
            [
             0.6666666666666666,
             "#ed7953"
            ],
            [
             0.7777777777777778,
             "#fb9f3a"
            ],
            [
             0.8888888888888888,
             "#fdca26"
            ],
            [
             1,
             "#f0f921"
            ]
           ],
           "sequentialminus": [
            [
             0,
             "#0d0887"
            ],
            [
             0.1111111111111111,
             "#46039f"
            ],
            [
             0.2222222222222222,
             "#7201a8"
            ],
            [
             0.3333333333333333,
             "#9c179e"
            ],
            [
             0.4444444444444444,
             "#bd3786"
            ],
            [
             0.5555555555555556,
             "#d8576b"
            ],
            [
             0.6666666666666666,
             "#ed7953"
            ],
            [
             0.7777777777777778,
             "#fb9f3a"
            ],
            [
             0.8888888888888888,
             "#fdca26"
            ],
            [
             1,
             "#f0f921"
            ]
           ]
          },
          "colorway": [
           "#636efa",
           "#EF553B",
           "#00cc96",
           "#ab63fa",
           "#FFA15A",
           "#19d3f3",
           "#FF6692",
           "#B6E880",
           "#FF97FF",
           "#FECB52"
          ],
          "font": {
           "color": "#2a3f5f"
          },
          "geo": {
           "bgcolor": "white",
           "lakecolor": "white",
           "landcolor": "#E5ECF6",
           "showlakes": true,
           "showland": true,
           "subunitcolor": "white"
          },
          "hoverlabel": {
           "align": "left"
          },
          "hovermode": "closest",
          "mapbox": {
           "style": "light"
          },
          "paper_bgcolor": "white",
          "plot_bgcolor": "#E5ECF6",
          "polar": {
           "angularaxis": {
            "gridcolor": "white",
            "linecolor": "white",
            "ticks": ""
           },
           "bgcolor": "#E5ECF6",
           "radialaxis": {
            "gridcolor": "white",
            "linecolor": "white",
            "ticks": ""
           }
          },
          "scene": {
           "xaxis": {
            "backgroundcolor": "#E5ECF6",
            "gridcolor": "white",
            "gridwidth": 2,
            "linecolor": "white",
            "showbackground": true,
            "ticks": "",
            "zerolinecolor": "white"
           },
           "yaxis": {
            "backgroundcolor": "#E5ECF6",
            "gridcolor": "white",
            "gridwidth": 2,
            "linecolor": "white",
            "showbackground": true,
            "ticks": "",
            "zerolinecolor": "white"
           },
           "zaxis": {
            "backgroundcolor": "#E5ECF6",
            "gridcolor": "white",
            "gridwidth": 2,
            "linecolor": "white",
            "showbackground": true,
            "ticks": "",
            "zerolinecolor": "white"
           }
          },
          "shapedefaults": {
           "line": {
            "color": "#2a3f5f"
           }
          },
          "ternary": {
           "aaxis": {
            "gridcolor": "white",
            "linecolor": "white",
            "ticks": ""
           },
           "baxis": {
            "gridcolor": "white",
            "linecolor": "white",
            "ticks": ""
           },
           "bgcolor": "#E5ECF6",
           "caxis": {
            "gridcolor": "white",
            "linecolor": "white",
            "ticks": ""
           }
          },
          "title": {
           "x": 0.05
          },
          "xaxis": {
           "automargin": true,
           "gridcolor": "white",
           "linecolor": "white",
           "ticks": "",
           "title": {
            "standoff": 15
           },
           "zerolinecolor": "white",
           "zerolinewidth": 2
          },
          "yaxis": {
           "automargin": true,
           "gridcolor": "white",
           "linecolor": "white",
           "ticks": "",
           "title": {
            "standoff": 15
           },
           "zerolinecolor": "white",
           "zerolinewidth": 2
          }
         }
        },
        "title": {
         "text": "KNMI Weather Station Locations (All vs Active)"
        },
        "width": 1000
       }
      }
     },
     "metadata": {},
     "output_type": "display_data"
    }
   ],
   "source": [
    "\n",
    "fig = px.scatter_map(\n",
    "    combined_data,\n",
    "    lat=\"LAT(north)\",\n",
    "    lon=\"LON(east)\",\n",
    "    hover_data=[\"STN\", \"NAME\", \"ALT(m)\"],\n",
    "    color=\"Type\",  # Different colors for station types\n",
    "    zoom=6.9,\n",
    "    center={\"lat\": 52.1010947603812, \"lon\": 5.646120953892783},\n",
    "    map_style='carto-positron',\n",
    "    title=\"KNMI Weather Station Locations (All vs Active)\",\n",
    "    width=1000,\n",
    "    height=1000\n",
    ")\n",
    "\n",
    "fig.show()\n"
   ]
  }
 ],
 "metadata": {
  "kernelspec": {
   "display_name": "TIL6022-25",
   "language": "python",
   "name": "python3"
  },
  "language_info": {
   "codemirror_mode": {
    "name": "ipython",
    "version": 3
   },
   "file_extension": ".py",
   "mimetype": "text/x-python",
   "name": "python",
   "nbconvert_exporter": "python",
   "pygments_lexer": "ipython3",
   "version": "3.12.3"
  }
 },
 "nbformat": 4,
 "nbformat_minor": 5
}
