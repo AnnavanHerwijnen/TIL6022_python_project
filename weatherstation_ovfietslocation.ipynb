{
 "cells": [
  {
   "cell_type": "code",
   "execution_count": 1,
   "id": "7d9ec6f6",
   "metadata": {},
   "outputs": [],
   "source": [
    "import pandas as pd\n",
    "import os\n",
    "import json\n",
    "from geopy.distance import geodesic\n",
    "\n",
    "\n",
    "import matplotlib.pyplot as plt\n",
    "import plotly.express as px\n",
    "import plotly.io as pio\n",
    "import seaborn as sns\n",
    "\n",
    "\n"
   ]
  },
  {
   "cell_type": "code",
   "execution_count": 8,
   "id": "36ed6bd9",
   "metadata": {},
   "outputs": [],
   "source": [
    "## Read in the data for one ov-fiets file (=one day)\n",
    "\n",
    "# filename = 'ovfiets_201701/OVFiets_2017-01-04.csv.xz'\n",
    "filename = 'ovfiets_november/OVFiets_2023-11-01.csv.xz'\n",
    "\n",
    "\n",
    "df = pd.read_csv(filename,header = None)\n",
    "# print(df)\n",
    "# print(df.head)"
   ]
  },
  {
   "cell_type": "code",
   "execution_count": 10,
   "id": "0887f990",
   "metadata": {},
   "outputs": [
    {
     "name": "stderr",
     "output_type": "stream",
     "text": [
      "C:\\Users\\annav\\AppData\\Local\\Temp\\ipykernel_39804\\3149487698.py:12: FutureWarning:\n",
      "\n",
      "In a future version of pandas, parsing datetimes with mixed time zones will raise an error unless `utc=True`. Please specify `utc=True` to opt in to the new behaviour and silence this warning. To create a `Series` with mixed offsets and `object` dtype, please use `apply` and `datetime.datetime.strptime`\n",
      "\n"
     ]
    }
   ],
   "source": [
    "# Parse the data from strings to dictionaries/floats\n",
    "df[\"parsed\"] = df[2].apply(json.loads)\n",
    "# print(df['parsed'])\n",
    "\n",
    "# Flatten into new columns\n",
    "df2_flat = pd.json_normalize(df[\"parsed\"])\n",
    "\n",
    "# Combine back with your original DataFrame (optional)\n",
    "df2_flat = pd.concat([df, df2_flat], axis=1)\n",
    "df2_flat['extra.rentalBikes'] = df2_flat['extra.rentalBikes'].astype(float)\n",
    "# df2_flat[0] = pd.to_datetime(df2_flat[0])\n",
    "df2_flat[0] = pd.to_datetime(df2_flat[0], format=\"ISO8601\", errors=\"coerce\")\n",
    "\n",
    "# df2_flat = df2_flat.set_index(0)\n",
    "df2_flat = df2_flat.rename(columns={0: \"time\"})\n",
    "\n",
    "# print(df2_flat.columns)\n",
    "# print(df2_flat.head())\n",
    "# print(df2_flat['extra.rentalBikes'])\n",
    "\n",
    "## make columns with interesting numbers from string to float using .astype(float)"
   ]
  },
  {
   "cell_type": "code",
   "execution_count": 11,
   "id": "ae410a5c",
   "metadata": {},
   "outputs": [
    {
     "name": "stdout",
     "output_type": "stream",
     "text": [
      "244\n"
     ]
    }
   ],
   "source": [
    "# Keep only unique station codes to find locations of ov-fiets rental origins\n",
    "\n",
    "df_locations = df2_flat.drop_duplicates(subset=['stationCode'])\n",
    "\n",
    "print(len(df_locations))\n",
    "\n",
    "df_lons = df_locations['lng']\n",
    "df_lats = df_locations['lat']\n",
    "df_stationcode = df_locations['stationCode']\n",
    "\n",
    "# plt.figure\n",
    "# plt.scatter(df_lons,df_lats)"
   ]
  },
  {
   "cell_type": "code",
   "execution_count": 12,
   "id": "e92c6076",
   "metadata": {},
   "outputs": [],
   "source": [
    "# open weather station data\n",
    "\n",
    "weather_location = pd.read_csv(\"Usable_weather_station_data.csv\")\n",
    "weather_location.head(10)\n",
    "\n",
    "weather_location_lats = weather_location[\"LAT(north)\"]\n",
    "weather_location_lons = weather_location[\"LON(east)\"]"
   ]
  },
  {
   "cell_type": "code",
   "execution_count": null,
   "id": "f5c8aaaa",
   "metadata": {},
   "outputs": [],
   "source": []
  },
  {
   "cell_type": "code",
   "execution_count": 13,
   "id": "77cf3fe5",
   "metadata": {},
   "outputs": [],
   "source": [
    "# create the plotly express map here\n",
    "q2_fig = px.scatter_map(df_locations, lat='lat',lon=\"lng\",hover_data=('stationCode',),zoom=5.5,center={'lat':52.1010,\"lon\":5.6461},\n",
    "                           title='OV-fiets rental locations')\n",
    "\n",
    "fig = px.scatter_map(weather_location, lat=\"LAT(north)\", lon=\"LON(east)\", hover_data=('STN','NAME','ALT(m)'),zoom=6.5, center={\"lat\":52.1010947603812, \"lon\":5.646120953892783}, title=\"KNMI Weather Station Locations\", width=1000, height=1000)\n",
    "\n",
    "\n",
    "# q2_fig.show()\n"
   ]
  },
  {
   "cell_type": "code",
   "execution_count": 17,
   "id": "a03724d9",
   "metadata": {},
   "outputs": [
    {
     "data": {
      "application/vnd.plotly.v1+json": {
       "config": {
        "plotlyServerURL": "https://plot.ly"
       },
       "data": [
        {
         "customdata": [
          [
           "GN"
          ],
          [
           "DDR"
          ],
          [
           "NM"
          ],
          [
           "SDM"
          ],
          [
           "GERP"
          ],
          [
           "GV"
          ],
          [
           "LW"
          ],
          [
           "AH"
          ],
          [
           "MAS"
          ],
          [
           "ASD"
          ],
          [
           "HDR"
          ],
          [
           "ASS"
          ],
          [
           "LLS"
          ],
          [
           "GVC"
          ],
          [
           "HLM"
          ],
          [
           "HRL"
          ],
          [
           "ES"
          ],
          [
           "ASB"
          ],
          [
           "RSD"
          ],
          [
           "HT"
          ],
          [
           "EHV"
          ],
          [
           "HGL"
          ],
          [
           "VB"
          ],
          [
           "ASA"
          ],
          [
           "BSLC"
          ],
          [
           "AMF"
          ],
          [
           "HN"
          ],
          [
           "UTO"
          ],
          [
           "ASDM"
          ],
          [
           "ZD"
          ],
          [
           "HFD"
          ],
          [
           "HAD"
          ],
          [
           "VL"
          ],
          [
           "MDB"
          ],
          [
           "ASN"
          ],
          [
           "DB"
          ],
          [
           "AMR"
          ],
          [
           "MT"
          ],
          [
           "HWD"
          ],
          [
           "BHV"
          ],
          [
           "ALM"
          ],
          [
           "RSW"
          ],
          [
           "BD"
          ],
          [
           "AMRN"
          ],
          [
           "WD"
          ],
          [
           "STD"
          ],
          [
           "ZP"
          ],
          [
           "APN"
          ],
          [
           "BRN"
          ],
          [
           "CAS"
          ],
          [
           "ASDZ"
          ],
          [
           "ZWD"
          ],
          [
           "ZL"
          ],
          [
           "GS"
          ],
          [
           "O"
          ],
          [
           "ZBM"
          ],
          [
           "WT"
          ],
          [
           "HVS"
          ],
          [
           "BRD"
          ],
          [
           "UTVR"
          ],
          [
           "HM"
          ],
          [
           "TB"
          ],
          [
           "AMFS"
          ],
          [
           "HGV"
          ],
          [
           "RAI"
          ],
          [
           "DV"
          ],
          [
           "HTN"
          ],
          [
           "NDB"
          ],
          [
           "BV"
          ],
          [
           "HTNC"
          ],
          [
           "TL"
          ],
          [
           "MP"
          ],
          [
           "RM"
          ],
          [
           "HR"
          ],
          [
           "CL"
          ],
          [
           "KPN"
          ],
          [
           "HD"
          ],
          [
           "APD"
          ],
          [
           "BGN"
          ],
          [
           "SWK"
          ],
          [
           "GD"
          ],
          [
           "ANA"
          ],
          [
           "APG"
          ],
          [
           "ATN"
          ],
          [
           "AVAT"
          ],
          [
           "BDG"
          ],
          [
           "BDPB"
          ],
          [
           "BKG"
          ],
          [
           "BKL"
          ],
          [
           "BLL"
          ],
          [
           "BMN"
          ],
          [
           "BMR"
          ],
          [
           "BN"
          ],
          [
           "BNC"
          ],
          [
           "BNK"
          ],
          [
           "BNN"
          ],
          [
           "BSD"
          ],
          [
           "BSMZ"
          ],
          [
           "BTL"
          ],
          [
           "CK"
          ],
          [
           "DDN"
          ],
          [
           "DID"
          ],
          [
           "DL"
          ],
          [
           "DLD"
          ],
          [
           "DMN"
          ],
          [
           "DMNZ"
          ],
          [
           "DN"
          ],
          [
           "DR"
          ],
          [
           "DRH"
          ],
          [
           "DRON"
          ],
          [
           "DT"
          ],
          [
           "DTC"
          ],
          [
           "DTCH"
          ],
          [
           "DTZ"
          ],
          [
           "DVD"
          ],
          [
           "DVN"
          ],
          [
           "DVNK"
          ],
          [
           "DZ"
          ],
          [
           "EC"
          ],
          [
           "ED"
          ],
          [
           "EHS"
          ],
          [
           "EST"
          ],
          [
           "ETN"
          ],
          [
           "GDG"
          ],
          [
           "GDM"
          ],
          [
           "GNN"
          ],
          [
           "GO"
          ],
          [
           "GP"
          ],
          [
           "GR"
          ],
          [
           "GVM"
          ],
          [
           "GZ"
          ],
          [
           "HDB"
          ],
          [
           "HDRZ"
          ],
          [
           "HGLG"
          ],
          [
           "HGZ"
          ],
          [
           "HIL"
          ],
          [
           "HK"
          ],
          [
           "HKS"
          ],
          [
           "HLMS"
          ],
          [
           "HLO"
          ],
          [
           "HMBH"
          ],
          [
           "HMBV"
          ],
          [
           "HMH"
          ],
          [
           "HNK"
          ],
          [
           "HOR"
          ],
          [
           "HRT"
          ],
          [
           "HTO"
          ],
          [
           "HWZB"
          ],
          [
           "HZE"
          ],
          [
           "KLP"
          ],
          [
           "KMA"
          ],
          [
           "KRD"
          ],
          [
           "LAA"
          ],
          [
           "LC"
          ],
          [
           "LEDN"
          ],
          [
           "LG"
          ],
          [
           "MES"
          ],
          [
           "MTN"
          ],
          [
           "MTR"
          ],
          [
           "MZ"
          ],
          [
           "NMGO"
          ],
          [
           "NMH"
          ],
          [
           "NVD"
          ],
          [
           "OBD"
          ],
          [
           "ODB"
          ],
          [
           "ODZ"
          ],
          [
           "OMN"
          ],
          [
           "OST"
          ],
          [
           "BSK"
          ],
          [
           "OVN"
          ],
          [
           "OW"
          ],
          [
           "PMO"
          ],
          [
           "PMR"
          ],
          [
           "PT"
          ],
          [
           "RAT"
          ],
          [
           "RH"
          ],
          [
           "RHN"
          ],
          [
           "RS"
          ],
          [
           "RTA"
          ],
          [
           "RTD"
          ],
          [
           "RV"
          ],
          [
           "RVS"
          ],
          [
           "SD"
          ],
          [
           "SDT"
          ],
          [
           "SGN"
          ],
          [
           "SHL"
          ],
          [
           "SK"
          ],
          [
           "SPTN"
          ],
          [
           "SPTZ"
          ],
          [
           "STZ"
          ],
          [
           "TBR"
          ],
          [
           "TBG"
          ],
          [
           "TBU"
          ],
          [
           "UT"
          ],
          [
           "UTG"
          ],
          [
           "UTLN"
          ],
          [
           "UTLR"
          ],
          [
           "UTT"
          ],
          [
           "UTZL"
          ],
          [
           "VDM"
          ],
          [
           "VG"
          ],
          [
           "VH"
          ],
          [
           "VHP"
          ],
          [
           "VK"
          ],
          [
           "VLB"
          ],
          [
           "VP"
          ],
          [
           "VRY"
          ],
          [
           "VST"
          ],
          [
           "VSV"
          ],
          [
           "VTN"
          ],
          [
           "VZ"
          ],
          [
           "WC"
          ],
          [
           "WF"
          ],
          [
           "WH"
          ],
          [
           "WP"
          ],
          [
           "WS"
          ],
          [
           "WSM"
          ],
          [
           "WTV"
          ],
          [
           "WW"
          ],
          [
           "ZH"
          ],
          [
           "ZLW"
          ],
          [
           "ZTMO"
          ],
          [
           "ZV"
          ],
          [
           "ZVB"
          ],
          [
           "ZVT"
          ],
          [
           "ZTM"
          ],
          [
           "AML"
          ],
          [
           "HDE"
          ],
          [
           "HON"
          ],
          [
           "OT"
          ],
          [
           "RSN"
          ],
          [
           "RTB"
          ],
          [
           "ASDL"
          ],
          [
           "HVSP"
          ],
          [
           "VNDW"
          ],
          [
           "RLB"
          ],
          [
           "EMN"
          ],
          [
           "BL"
          ],
          [
           "BET"
          ],
          [
           "VS"
          ],
          [
           "EKZ"
          ],
          [
           "EML"
          ],
          [
           "HRN"
          ],
          [
           "NS"
          ]
         ],
         "hovertemplate": "lat=%{lat}<br>lng=%{lon}<br>stationCode=%{customdata[0]}<extra></extra>",
         "lat": {
          "bdata": "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",
          "dtype": "f8"
         },
         "legendgroup": "",
         "lon": {
          "bdata": "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",
          "dtype": "f8"
         },
         "marker": {
          "color": "blue",
          "size": 7
         },
         "mode": "markers",
         "name": "OV-fiets Rental Locations",
         "showlegend": true,
         "subplot": "map",
         "type": "scattermap"
        },
        {
         "hovertext": [
          "Voorschoten",
          "De Kooy",
          "Schiphol",
          "Berkhout",
          "Hoorn Terschelling",
          "De Bilt",
          "Stavoren",
          "Lelystad",
          "Leeuwarden",
          "Marknesse",
          "Deelen",
          "Lauwersoog",
          "Heino",
          "Hoogeveen",
          "Eelde",
          "Hupsel",
          "Nieuw Beerta",
          "Twenthe",
          "Vlissingen",
          "Westdorpe",
          "Wilhelminadorp",
          "Hoek van Holland",
          "Woensdrecht",
          "Rotterdam",
          "Cabauw Mast",
          "Gilze-Rijen",
          "Herwijnen",
          "Eindhoven",
          "Volkel",
          "Ell",
          "Maastricht",
          "Horst"
         ],
         "lat": {
          "bdata": "NV66SQwSSkAQWDm0yHZKQGIQWDm0KEpA30+Nl25SSkAZBFYOLbJKQM3MzMzMDEpAbef7qfFySkC0yHa+nzpKQOkmMQisnEpARIts5/tZSkC6SQwCKwdKQL6fGi/dtEpASOF6FK43SkAAAAAAAGBKQAAAAAAAkEpARrbz/dQISkAMAiuHFplKQFCNl24SI0pAf2q8dJO4SUCwcmiR7ZxJQPp+arx0w0lA5dAi2/n+SUC28/3UeLlJQEJg5dAi+0lAXI/C9Sj8SUCcxCCwcshJQMuhRbbz7UlAfT81Xrq5SUAxCKwcWtRJQNNNYhBYmUlAhxbZzvdzSUD6QV2kUL5JQA==",
          "dtype": "f8"
         },
         "lon": {
          "bdata": "c2iR7Xy/EUA5tMh2vh8TQClcj8L1KBNA0SLb+X7qE0D8qfHSTWIVQLgehetRuBRA8KfGSzeJFUAUrkfhehQWQDVeukkMAhdAWmQ730+NF0DLoUW2830XQM3MzMzMzBhA8KfGSzcJGUCyne+nxksaQNejcD0KVxpAVOOlm8SgGkCamZmZmZkcQKrx0k1ikBtA+FPjpZvEDEAX2c73U+MOQN9PjZduEg9AsHJoke18EECR7Xw/NV4RQH0/NV66yRFATmIQWDm0E0BYObTIdr4TQC/dJAaBlRRANV66SQyCFUCHFtnO99MWQFpkO99PDRdAPzVeukkMF0BslPWbiTkYQA==",
          "dtype": "f8"
         },
         "marker": {
          "color": "red",
          "size": 7
         },
         "mode": "markers",
         "name": "KNMI Weather Stations",
         "showlegend": true,
         "type": "scattermap"
        }
       ],
       "layout": {
        "height": 800,
        "legend": {
         "title": {
          "text": "Legend"
         },
         "tracegroupgap": 0,
         "x": 0.02,
         "y": 0.98
        },
        "map": {
         "center": {
          "lat": 52.101,
          "lon": 5.6461
         },
         "domain": {
          "x": [
           0,
           1
          ],
          "y": [
           0,
           1
          ]
         },
         "zoom": 6.5
        },
        "mapbox": {
         "center": {
          "lat": 52.101,
          "lon": 5.6461
         },
         "style": "open-street-map",
         "zoom": 6.5
        },
        "template": {
         "data": {
          "bar": [
           {
            "error_x": {
             "color": "#2a3f5f"
            },
            "error_y": {
             "color": "#2a3f5f"
            },
            "marker": {
             "line": {
              "color": "#E5ECF6",
              "width": 0.5
             },
             "pattern": {
              "fillmode": "overlay",
              "size": 10,
              "solidity": 0.2
             }
            },
            "type": "bar"
           }
          ],
          "barpolar": [
           {
            "marker": {
             "line": {
              "color": "#E5ECF6",
              "width": 0.5
             },
             "pattern": {
              "fillmode": "overlay",
              "size": 10,
              "solidity": 0.2
             }
            },
            "type": "barpolar"
           }
          ],
          "carpet": [
           {
            "aaxis": {
             "endlinecolor": "#2a3f5f",
             "gridcolor": "white",
             "linecolor": "white",
             "minorgridcolor": "white",
             "startlinecolor": "#2a3f5f"
            },
            "baxis": {
             "endlinecolor": "#2a3f5f",
             "gridcolor": "white",
             "linecolor": "white",
             "minorgridcolor": "white",
             "startlinecolor": "#2a3f5f"
            },
            "type": "carpet"
           }
          ],
          "choropleth": [
           {
            "colorbar": {
             "outlinewidth": 0,
             "ticks": ""
            },
            "type": "choropleth"
           }
          ],
          "contour": [
           {
            "colorbar": {
             "outlinewidth": 0,
             "ticks": ""
            },
            "colorscale": [
             [
              0,
              "#0d0887"
             ],
             [
              0.1111111111111111,
              "#46039f"
             ],
             [
              0.2222222222222222,
              "#7201a8"
             ],
             [
              0.3333333333333333,
              "#9c179e"
             ],
             [
              0.4444444444444444,
              "#bd3786"
             ],
             [
              0.5555555555555556,
              "#d8576b"
             ],
             [
              0.6666666666666666,
              "#ed7953"
             ],
             [
              0.7777777777777778,
              "#fb9f3a"
             ],
             [
              0.8888888888888888,
              "#fdca26"
             ],
             [
              1,
              "#f0f921"
             ]
            ],
            "type": "contour"
           }
          ],
          "contourcarpet": [
           {
            "colorbar": {
             "outlinewidth": 0,
             "ticks": ""
            },
            "type": "contourcarpet"
           }
          ],
          "heatmap": [
           {
            "colorbar": {
             "outlinewidth": 0,
             "ticks": ""
            },
            "colorscale": [
             [
              0,
              "#0d0887"
             ],
             [
              0.1111111111111111,
              "#46039f"
             ],
             [
              0.2222222222222222,
              "#7201a8"
             ],
             [
              0.3333333333333333,
              "#9c179e"
             ],
             [
              0.4444444444444444,
              "#bd3786"
             ],
             [
              0.5555555555555556,
              "#d8576b"
             ],
             [
              0.6666666666666666,
              "#ed7953"
             ],
             [
              0.7777777777777778,
              "#fb9f3a"
             ],
             [
              0.8888888888888888,
              "#fdca26"
             ],
             [
              1,
              "#f0f921"
             ]
            ],
            "type": "heatmap"
           }
          ],
          "histogram": [
           {
            "marker": {
             "pattern": {
              "fillmode": "overlay",
              "size": 10,
              "solidity": 0.2
             }
            },
            "type": "histogram"
           }
          ],
          "histogram2d": [
           {
            "colorbar": {
             "outlinewidth": 0,
             "ticks": ""
            },
            "colorscale": [
             [
              0,
              "#0d0887"
             ],
             [
              0.1111111111111111,
              "#46039f"
             ],
             [
              0.2222222222222222,
              "#7201a8"
             ],
             [
              0.3333333333333333,
              "#9c179e"
             ],
             [
              0.4444444444444444,
              "#bd3786"
             ],
             [
              0.5555555555555556,
              "#d8576b"
             ],
             [
              0.6666666666666666,
              "#ed7953"
             ],
             [
              0.7777777777777778,
              "#fb9f3a"
             ],
             [
              0.8888888888888888,
              "#fdca26"
             ],
             [
              1,
              "#f0f921"
             ]
            ],
            "type": "histogram2d"
           }
          ],
          "histogram2dcontour": [
           {
            "colorbar": {
             "outlinewidth": 0,
             "ticks": ""
            },
            "colorscale": [
             [
              0,
              "#0d0887"
             ],
             [
              0.1111111111111111,
              "#46039f"
             ],
             [
              0.2222222222222222,
              "#7201a8"
             ],
             [
              0.3333333333333333,
              "#9c179e"
             ],
             [
              0.4444444444444444,
              "#bd3786"
             ],
             [
              0.5555555555555556,
              "#d8576b"
             ],
             [
              0.6666666666666666,
              "#ed7953"
             ],
             [
              0.7777777777777778,
              "#fb9f3a"
             ],
             [
              0.8888888888888888,
              "#fdca26"
             ],
             [
              1,
              "#f0f921"
             ]
            ],
            "type": "histogram2dcontour"
           }
          ],
          "mesh3d": [
           {
            "colorbar": {
             "outlinewidth": 0,
             "ticks": ""
            },
            "type": "mesh3d"
           }
          ],
          "parcoords": [
           {
            "line": {
             "colorbar": {
              "outlinewidth": 0,
              "ticks": ""
             }
            },
            "type": "parcoords"
           }
          ],
          "pie": [
           {
            "automargin": true,
            "type": "pie"
           }
          ],
          "scatter": [
           {
            "fillpattern": {
             "fillmode": "overlay",
             "size": 10,
             "solidity": 0.2
            },
            "type": "scatter"
           }
          ],
          "scatter3d": [
           {
            "line": {
             "colorbar": {
              "outlinewidth": 0,
              "ticks": ""
             }
            },
            "marker": {
             "colorbar": {
              "outlinewidth": 0,
              "ticks": ""
             }
            },
            "type": "scatter3d"
           }
          ],
          "scattercarpet": [
           {
            "marker": {
             "colorbar": {
              "outlinewidth": 0,
              "ticks": ""
             }
            },
            "type": "scattercarpet"
           }
          ],
          "scattergeo": [
           {
            "marker": {
             "colorbar": {
              "outlinewidth": 0,
              "ticks": ""
             }
            },
            "type": "scattergeo"
           }
          ],
          "scattergl": [
           {
            "marker": {
             "colorbar": {
              "outlinewidth": 0,
              "ticks": ""
             }
            },
            "type": "scattergl"
           }
          ],
          "scattermap": [
           {
            "marker": {
             "colorbar": {
              "outlinewidth": 0,
              "ticks": ""
             }
            },
            "type": "scattermap"
           }
          ],
          "scattermapbox": [
           {
            "marker": {
             "colorbar": {
              "outlinewidth": 0,
              "ticks": ""
             }
            },
            "type": "scattermapbox"
           }
          ],
          "scatterpolar": [
           {
            "marker": {
             "colorbar": {
              "outlinewidth": 0,
              "ticks": ""
             }
            },
            "type": "scatterpolar"
           }
          ],
          "scatterpolargl": [
           {
            "marker": {
             "colorbar": {
              "outlinewidth": 0,
              "ticks": ""
             }
            },
            "type": "scatterpolargl"
           }
          ],
          "scatterternary": [
           {
            "marker": {
             "colorbar": {
              "outlinewidth": 0,
              "ticks": ""
             }
            },
            "type": "scatterternary"
           }
          ],
          "surface": [
           {
            "colorbar": {
             "outlinewidth": 0,
             "ticks": ""
            },
            "colorscale": [
             [
              0,
              "#0d0887"
             ],
             [
              0.1111111111111111,
              "#46039f"
             ],
             [
              0.2222222222222222,
              "#7201a8"
             ],
             [
              0.3333333333333333,
              "#9c179e"
             ],
             [
              0.4444444444444444,
              "#bd3786"
             ],
             [
              0.5555555555555556,
              "#d8576b"
             ],
             [
              0.6666666666666666,
              "#ed7953"
             ],
             [
              0.7777777777777778,
              "#fb9f3a"
             ],
             [
              0.8888888888888888,
              "#fdca26"
             ],
             [
              1,
              "#f0f921"
             ]
            ],
            "type": "surface"
           }
          ],
          "table": [
           {
            "cells": {
             "fill": {
              "color": "#EBF0F8"
             },
             "line": {
              "color": "white"
             }
            },
            "header": {
             "fill": {
              "color": "#C8D4E3"
             },
             "line": {
              "color": "white"
             }
            },
            "type": "table"
           }
          ]
         },
         "layout": {
          "annotationdefaults": {
           "arrowcolor": "#2a3f5f",
           "arrowhead": 0,
           "arrowwidth": 1
          },
          "autotypenumbers": "strict",
          "coloraxis": {
           "colorbar": {
            "outlinewidth": 0,
            "ticks": ""
           }
          },
          "colorscale": {
           "diverging": [
            [
             0,
             "#8e0152"
            ],
            [
             0.1,
             "#c51b7d"
            ],
            [
             0.2,
             "#de77ae"
            ],
            [
             0.3,
             "#f1b6da"
            ],
            [
             0.4,
             "#fde0ef"
            ],
            [
             0.5,
             "#f7f7f7"
            ],
            [
             0.6,
             "#e6f5d0"
            ],
            [
             0.7,
             "#b8e186"
            ],
            [
             0.8,
             "#7fbc41"
            ],
            [
             0.9,
             "#4d9221"
            ],
            [
             1,
             "#276419"
            ]
           ],
           "sequential": [
            [
             0,
             "#0d0887"
            ],
            [
             0.1111111111111111,
             "#46039f"
            ],
            [
             0.2222222222222222,
             "#7201a8"
            ],
            [
             0.3333333333333333,
             "#9c179e"
            ],
            [
             0.4444444444444444,
             "#bd3786"
            ],
            [
             0.5555555555555556,
             "#d8576b"
            ],
            [
             0.6666666666666666,
             "#ed7953"
            ],
            [
             0.7777777777777778,
             "#fb9f3a"
            ],
            [
             0.8888888888888888,
             "#fdca26"
            ],
            [
             1,
             "#f0f921"
            ]
           ],
           "sequentialminus": [
            [
             0,
             "#0d0887"
            ],
            [
             0.1111111111111111,
             "#46039f"
            ],
            [
             0.2222222222222222,
             "#7201a8"
            ],
            [
             0.3333333333333333,
             "#9c179e"
            ],
            [
             0.4444444444444444,
             "#bd3786"
            ],
            [
             0.5555555555555556,
             "#d8576b"
            ],
            [
             0.6666666666666666,
             "#ed7953"
            ],
            [
             0.7777777777777778,
             "#fb9f3a"
            ],
            [
             0.8888888888888888,
             "#fdca26"
            ],
            [
             1,
             "#f0f921"
            ]
           ]
          },
          "colorway": [
           "#636efa",
           "#EF553B",
           "#00cc96",
           "#ab63fa",
           "#FFA15A",
           "#19d3f3",
           "#FF6692",
           "#B6E880",
           "#FF97FF",
           "#FECB52"
          ],
          "font": {
           "color": "#2a3f5f"
          },
          "geo": {
           "bgcolor": "white",
           "lakecolor": "white",
           "landcolor": "#E5ECF6",
           "showlakes": true,
           "showland": true,
           "subunitcolor": "white"
          },
          "hoverlabel": {
           "align": "left"
          },
          "hovermode": "closest",
          "mapbox": {
           "style": "light"
          },
          "paper_bgcolor": "white",
          "plot_bgcolor": "#E5ECF6",
          "polar": {
           "angularaxis": {
            "gridcolor": "white",
            "linecolor": "white",
            "ticks": ""
           },
           "bgcolor": "#E5ECF6",
           "radialaxis": {
            "gridcolor": "white",
            "linecolor": "white",
            "ticks": ""
           }
          },
          "scene": {
           "xaxis": {
            "backgroundcolor": "#E5ECF6",
            "gridcolor": "white",
            "gridwidth": 2,
            "linecolor": "white",
            "showbackground": true,
            "ticks": "",
            "zerolinecolor": "white"
           },
           "yaxis": {
            "backgroundcolor": "#E5ECF6",
            "gridcolor": "white",
            "gridwidth": 2,
            "linecolor": "white",
            "showbackground": true,
            "ticks": "",
            "zerolinecolor": "white"
           },
           "zaxis": {
            "backgroundcolor": "#E5ECF6",
            "gridcolor": "white",
            "gridwidth": 2,
            "linecolor": "white",
            "showbackground": true,
            "ticks": "",
            "zerolinecolor": "white"
           }
          },
          "shapedefaults": {
           "line": {
            "color": "#2a3f5f"
           }
          },
          "ternary": {
           "aaxis": {
            "gridcolor": "white",
            "linecolor": "white",
            "ticks": ""
           },
           "baxis": {
            "gridcolor": "white",
            "linecolor": "white",
            "ticks": ""
           },
           "bgcolor": "#E5ECF6",
           "caxis": {
            "gridcolor": "white",
            "linecolor": "white",
            "ticks": ""
           }
          },
          "title": {
           "x": 0.05
          },
          "xaxis": {
           "automargin": true,
           "gridcolor": "white",
           "linecolor": "white",
           "ticks": "",
           "title": {
            "standoff": 15
           },
           "zerolinecolor": "white",
           "zerolinewidth": 2
          },
          "yaxis": {
           "automargin": true,
           "gridcolor": "white",
           "linecolor": "white",
           "ticks": "",
           "title": {
            "standoff": 15
           },
           "zerolinecolor": "white",
           "zerolinewidth": 2
          }
         }
        },
        "title": {
         "text": "OV-fiets rental locations and KNMI weather stations"
        },
        "width": 1000
       }
      }
     },
     "metadata": {},
     "output_type": "display_data"
    }
   ],
   "source": [
    "\n",
    "# First scatter\n",
    "fig = px.scatter_map(\n",
    "    df_locations,\n",
    "    lat=\"lat\",\n",
    "    lon=\"lng\",\n",
    "    hover_data=[\"stationCode\"],\n",
    "    zoom=6.5,\n",
    "    center={\"lat\": 52.1010, \"lon\": 5.6461},\n",
    "    title=\"OV-fiets rental locations and KNMI weather stations\",\n",
    ")\n",
    "\n",
    "fig.data[0].name = \"OV-fiets Rental Locations\"\n",
    "fig.data[0].showlegend = True\n",
    "fig.data[0].marker.color = \"blue\"\n",
    "fig.data[0].marker.size = 7\n",
    "\n",
    "\n",
    "# Add the second scatter to the same figure\n",
    "fig.add_scattermap(\n",
    "    lat=weather_location[\"LAT(north)\"],\n",
    "    lon=weather_location[\"LON(east)\"],\n",
    "    mode=\"markers\",\n",
    "    marker=dict(size=7, color=\"red\"),\n",
    "    name=\"KNMI Weather Stations\",\n",
    "    hovertext=weather_location[\"NAME\"],\n",
    "    showlegend = True\n",
    ")\n",
    "\n",
    "# Set map style (required)\n",
    "fig.update_layout(\n",
    "    mapbox_style=\"open-street-map\",\n",
    "    width=1000,\n",
    "    height=800,\n",
    "    legend=dict(\n",
    "    title=\"Legend\",\n",
    "    x=0.02, y=0.98,)\n",
    ")\n",
    "\n",
    "fig.write_image(\"locations_map.pdf\")\n",
    "fig.show()\n"
   ]
  },
  {
   "cell_type": "code",
   "execution_count": null,
   "id": "cfa66c79",
   "metadata": {},
   "outputs": [],
   "source": []
  },
  {
   "cell_type": "code",
   "execution_count": 9,
   "metadata": {},
   "outputs": [],
   "source": [
    "\n",
    "\n",
    "# Example: df_locations = OV-fiets stations (lat, lng, stationCode, description)\n",
    "#           weather_location = KNMI weather stations (LAT(north), LON(east), STN, NAME)\n",
    "\n",
    "pairs = []\n",
    "\n",
    "for _, loc_row in df_locations.iterrows():\n",
    "    loc_point = (loc_row[\"lat\"], loc_row[\"lng\"])\n",
    "    nearest_station = None\n",
    "    nearest_dist = float(\"inf\")\n",
    "\n",
    "    # Loop through all weather stations to find nearest\n",
    "    for _, w_row in weather_location.iterrows():\n",
    "        w_point = (w_row[\"LAT(north)\"], w_row[\"LON(east)\"])\n",
    "        dist = geodesic(loc_point, w_point).km\n",
    "        if dist < nearest_dist:\n",
    "            nearest_dist = dist\n",
    "            nearest_station = w_row\n",
    "\n",
    "    pairs.append({\n",
    "        \"stationCode\": loc_row[\"stationCode\"],\n",
    "        \"description\": loc_row[\"description\"],\n",
    "        \"weather_station\": nearest_station[\"STN\"],\n",
    "        \"weather_name\": nearest_station[\"NAME\"],\n",
    "        \"distance_km\": round(nearest_dist, 2)\n",
    "    })\n",
    "\n",
    "# Create mapping DataFrame\n",
    "mapping_df = pd.DataFrame(pairs)\n"
   ]
  },
  {
   "cell_type": "code",
   "execution_count": 10,
   "id": "0f72311d",
   "metadata": {},
   "outputs": [
    {
     "data": {
      "text/html": [
       "<div>\n",
       "<style scoped>\n",
       "    .dataframe tbody tr th:only-of-type {\n",
       "        vertical-align: middle;\n",
       "    }\n",
       "\n",
       "    .dataframe tbody tr th {\n",
       "        vertical-align: top;\n",
       "    }\n",
       "\n",
       "    .dataframe thead th {\n",
       "        text-align: right;\n",
       "    }\n",
       "</style>\n",
       "<table border=\"1\" class=\"dataframe\">\n",
       "  <thead>\n",
       "    <tr style=\"text-align: right;\">\n",
       "      <th></th>\n",
       "      <th>stationCode</th>\n",
       "      <th>description</th>\n",
       "      <th>weather_station</th>\n",
       "      <th>weather_name</th>\n",
       "      <th>distance_km</th>\n",
       "    </tr>\n",
       "  </thead>\n",
       "  <tbody>\n",
       "    <tr>\n",
       "      <th>0</th>\n",
       "      <td>WC</td>\n",
       "      <td>Wijchen</td>\n",
       "      <td>375</td>\n",
       "      <td>Volkel</td>\n",
       "      <td>17.02</td>\n",
       "    </tr>\n",
       "    <tr>\n",
       "      <th>1</th>\n",
       "      <td>EC</td>\n",
       "      <td>Echt</td>\n",
       "      <td>377</td>\n",
       "      <td>Ell</td>\n",
       "      <td>13.56</td>\n",
       "    </tr>\n",
       "    <tr>\n",
       "      <th>2</th>\n",
       "      <td>RS</td>\n",
       "      <td>Rosmalen</td>\n",
       "      <td>356</td>\n",
       "      <td>Herwijnen</td>\n",
       "      <td>22.25</td>\n",
       "    </tr>\n",
       "    <tr>\n",
       "      <th>3</th>\n",
       "      <td>Vg001</td>\n",
       "      <td>Vught</td>\n",
       "      <td>370</td>\n",
       "      <td>Eindhoven</td>\n",
       "      <td>23.55</td>\n",
       "    </tr>\n",
       "    <tr>\n",
       "      <th>4</th>\n",
       "      <td>NMGO</td>\n",
       "      <td>Nijmegen Goffert</td>\n",
       "      <td>375</td>\n",
       "      <td>Volkel</td>\n",
       "      <td>20.36</td>\n",
       "    </tr>\n",
       "  </tbody>\n",
       "</table>\n",
       "</div>"
      ],
      "text/plain": [
       "  stationCode       description  weather_station weather_name  distance_km\n",
       "0          WC           Wijchen              375       Volkel        17.02\n",
       "1          EC              Echt              377          Ell        13.56\n",
       "2          RS          Rosmalen              356    Herwijnen        22.25\n",
       "3       Vg001             Vught              370    Eindhoven        23.55\n",
       "4        NMGO  Nijmegen Goffert              375       Volkel        20.36"
      ]
     },
     "execution_count": 10,
     "metadata": {},
     "output_type": "execute_result"
    }
   ],
   "source": [
    "mapping_df.head()\n",
    "\n"
   ]
  },
  {
   "cell_type": "code",
   "execution_count": 11,
   "id": "a63c9c1c",
   "metadata": {},
   "outputs": [
    {
     "data": {
      "text/html": [
       "<div>\n",
       "<style scoped>\n",
       "    .dataframe tbody tr th:only-of-type {\n",
       "        vertical-align: middle;\n",
       "    }\n",
       "\n",
       "    .dataframe tbody tr th {\n",
       "        vertical-align: top;\n",
       "    }\n",
       "\n",
       "    .dataframe thead th {\n",
       "        text-align: right;\n",
       "    }\n",
       "</style>\n",
       "<table border=\"1\" class=\"dataframe\">\n",
       "  <thead>\n",
       "    <tr style=\"text-align: right;\">\n",
       "      <th></th>\n",
       "      <th>stationCode</th>\n",
       "      <th>description</th>\n",
       "      <th>weather_station</th>\n",
       "      <th>weather_name</th>\n",
       "      <th>distance_km</th>\n",
       "    </tr>\n",
       "  </thead>\n",
       "  <tbody>\n",
       "    <tr>\n",
       "      <th>12</th>\n",
       "      <td>DT</td>\n",
       "      <td>Delft, Fietsenstalling</td>\n",
       "      <td>344</td>\n",
       "      <td>Rotterdam</td>\n",
       "      <td>7.9</td>\n",
       "    </tr>\n",
       "  </tbody>\n",
       "</table>\n",
       "</div>"
      ],
      "text/plain": [
       "   stationCode             description  weather_station weather_name  \\\n",
       "12          DT  Delft, Fietsenstalling              344    Rotterdam   \n",
       "\n",
       "    distance_km  \n",
       "12          7.9  "
      ]
     },
     "execution_count": 11,
     "metadata": {},
     "output_type": "execute_result"
    }
   ],
   "source": [
    "mapping_df[mapping_df['stationCode'] == 'DT']"
   ]
  },
  {
   "cell_type": "code",
   "execution_count": null,
   "id": "fc314608",
   "metadata": {},
   "outputs": [],
   "source": []
  }
 ],
 "metadata": {
  "kernelspec": {
   "display_name": "TIL6022",
   "language": "python",
   "name": "python3"
  },
  "language_info": {
   "codemirror_mode": {
    "name": "ipython",
    "version": 3
   },
   "file_extension": ".py",
   "mimetype": "text/x-python",
   "name": "python",
   "nbconvert_exporter": "python",
   "pygments_lexer": "ipython3",
   "version": "3.12.9"
  }
 },
 "nbformat": 4,
 "nbformat_minor": 5
}
