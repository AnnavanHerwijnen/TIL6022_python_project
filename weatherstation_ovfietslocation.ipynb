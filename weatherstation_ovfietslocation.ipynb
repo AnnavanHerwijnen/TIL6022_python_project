{
 "cells": [
  {
   "cell_type": "code",
   "execution_count": 2,
   "id": "7d9ec6f6",
   "metadata": {},
   "outputs": [],
   "source": [
    "import pandas as pd\n",
    "import os\n",
    "import json\n",
    "from geopy.distance import geodesic\n",
    "\n",
    "\n",
    "import matplotlib.pyplot as plt\n",
    "import plotly.express as px\n",
    "import plotly.io as pio\n",
    "import seaborn as sns\n",
    "\n",
    "\n"
   ]
  },
  {
   "cell_type": "code",
   "execution_count": 3,
   "id": "36ed6bd9",
   "metadata": {},
   "outputs": [],
   "source": [
    "## Read in the data for one ov-fiets file (=one day)\n",
    "\n",
    "filename = 'ovfiets_201701/OVFiets_2017-01-04.csv.xz'\n",
    "\n",
    "df = pd.read_csv(filename,header = None)\n",
    "# print(df)\n",
    "# print(df.head)"
   ]
  },
  {
   "cell_type": "code",
   "execution_count": 4,
   "id": "0887f990",
   "metadata": {},
   "outputs": [],
   "source": [
    "# Parse the data from strings to dictionaries/floats\n",
    "df[\"parsed\"] = df[2].apply(json.loads)\n",
    "# print(df['parsed'])\n",
    "\n",
    "# Flatten into new columns\n",
    "df2_flat = pd.json_normalize(df[\"parsed\"])\n",
    "\n",
    "# Combine back with your original DataFrame (optional)\n",
    "df2_flat = pd.concat([df, df2_flat], axis=1)\n",
    "df2_flat['extra.rentalBikes'] = df2_flat['extra.rentalBikes'].astype(float)\n",
    "df2_flat[0] = pd.to_datetime(df2_flat[0])\n",
    "# df2_flat = df2_flat.set_index(0)\n",
    "df2_flat = df2_flat.rename(columns={0: \"time\"})\n",
    "\n",
    "# print(df2_flat.columns)\n",
    "# print(df2_flat.head())\n",
    "# print(df2_flat['extra.rentalBikes'])\n",
    "\n",
    "## make columns with interesting numbers from string to float using .astype(float)"
   ]
  },
  {
   "cell_type": "code",
   "execution_count": 5,
   "id": "ae410a5c",
   "metadata": {},
   "outputs": [
    {
     "name": "stdout",
     "output_type": "stream",
     "text": [
      "232\n"
     ]
    }
   ],
   "source": [
    "# Keep only unique station codes to find locations of ov-fiets rental origins\n",
    "\n",
    "df_locations = df2_flat.drop_duplicates(subset=['stationCode'])\n",
    "\n",
    "print(len(df_locations))\n",
    "\n",
    "df_lons = df_locations['lng']\n",
    "df_lats = df_locations['lat']\n",
    "df_stationcode = df_locations['stationCode']\n",
    "\n",
    "# plt.figure\n",
    "# plt.scatter(df_lons,df_lats)"
   ]
  },
  {
   "cell_type": "code",
   "execution_count": 6,
   "id": "e92c6076",
   "metadata": {},
   "outputs": [],
   "source": [
    "# open weather station data\n",
    "\n",
    "weather_location = pd.read_csv(\"Usable_weather_station_data.csv\")\n",
    "weather_location.head(10)\n",
    "\n",
    "weather_location_lats = weather_location[\"LAT(north)\"]\n",
    "weather_location_lons = weather_location[\"LON(east)\"]"
   ]
  },
  {
   "cell_type": "code",
   "execution_count": null,
   "id": "f5c8aaaa",
   "metadata": {},
   "outputs": [],
   "source": []
  },
  {
   "cell_type": "code",
   "execution_count": 7,
   "id": "77cf3fe5",
   "metadata": {},
   "outputs": [],
   "source": [
    "# create the plotly express map here\n",
    "q2_fig = px.scatter_map(df_locations, lat='lat',lon=\"lng\",hover_data=('stationCode',),zoom=5.5,center={'lat':52.1010,\"lon\":5.6461},\n",
    "                           title='OV-fiets rental locations')\n",
    "\n",
    "fig = px.scatter_map(weather_location, lat=\"LAT(north)\", lon=\"LON(east)\", hover_data=('STN','NAME','ALT(m)'),zoom=6.5, center={\"lat\":52.1010947603812, \"lon\":5.646120953892783}, title=\"KNMI Weather Station Locations\", width=1000, height=1000)\n",
    "\n",
    "\n",
    "# q2_fig.show()\n"
   ]
  },
  {
   "cell_type": "code",
   "execution_count": 8,
   "id": "a03724d9",
   "metadata": {},
   "outputs": [
    {
     "data": {
      "application/vnd.plotly.v1+json": {
       "config": {
        "plotlyServerURL": "https://plot.ly"
       },
       "data": [
        {
         "customdata": [
          [
           "WC"
          ],
          [
           "EC"
          ],
          [
           "RS"
          ],
          [
           "Vg001"
          ],
          [
           "NMGO"
          ],
          [
           "NMH"
          ],
          [
           "ZTM"
          ],
          [
           "ZTMO"
          ],
          [
           "RTD"
          ],
          [
           "GVC"
          ],
          [
           "VB"
          ],
          [
           "GVM"
          ],
          [
           "DT"
          ],
          [
           "VST"
          ],
          [
           "DTZ"
          ],
          [
           "LAA"
          ],
          [
           "RSW"
          ],
          [
           "GV"
          ],
          [
           "LDL"
          ],
          [
           "DVNK"
          ],
          [
           "RTA"
          ],
          [
           "LEDN"
          ],
          [
           "RTDB"
          ],
          [
           "SDM"
          ],
          [
           "RTDA"
          ],
          [
           "APN"
          ],
          [
           "GD"
          ],
          [
           "VDO"
          ],
          [
           "VDG"
          ],
          [
           "GDGO"
          ],
          [
           "RLB"
          ],
          [
           "VDW"
          ],
          [
           "VH"
          ],
          [
           "MSS"
          ],
          [
           "BRD"
          ],
          [
           "HLD"
          ],
          [
           "ZWD"
          ],
          [
           "WD"
          ],
          [
           "HIL"
          ],
          [
           "DDR"
          ],
          [
           "HFD"
          ],
          [
           "SDT"
          ],
          [
           "SCHL"
          ],
          [
           "HAD"
          ],
          [
           "ZVT"
          ],
          [
           "VTN"
          ],
          [
           "BKL"
          ],
          [
           "UT"
          ],
          [
           "UTT"
          ],
          [
           "MAS"
          ],
          [
           "OVN"
          ],
          [
           "HLM"
          ],
          [
           "HLMS"
          ],
          [
           "UTLR"
          ],
          [
           "BLL"
          ],
          [
           "GR"
          ],
          [
           "ZLW"
          ],
          [
           "HWZB"
          ],
          [
           "ASDZ"
          ],
          [
           "ASDL"
          ],
          [
           "SPTZ"
          ],
          [
           "RAI"
          ],
          [
           "UTZL"
          ],
          [
           "EST"
          ],
          [
           "AH"
          ],
          [
           "NM"
          ],
          [
           "WTV"
          ],
          [
           "WF"
          ],
          [
           "VP"
          ],
          [
           "ZV"
          ],
          [
           "RH"
          ],
          [
           "ED"
          ],
          [
           "DID"
          ],
          [
           "CK"
          ],
          [
           "DR"
          ],
          [
           "VNDC"
          ],
          [
           "KLP"
          ],
          [
           "VNDW"
          ],
          [
           "BMN"
          ],
          [
           "O"
          ],
          [
           "DTCH"
          ],
          [
           "TL"
          ],
          [
           "OW"
          ],
          [
           "DTC"
          ],
          [
           "BNC"
          ],
          [
           "BMR"
          ],
          [
           "BNN"
          ],
          [
           "APD"
          ],
          [
           "ZP"
          ],
          [
           "TBG"
          ],
          [
           "vlb"
          ],
          [
           "BTL"
          ],
          [
           "GDM"
          ],
          [
           "VSV"
          ],
          [
           "DV"
          ],
          [
           "NKK"
          ],
          [
           "AMF"
          ],
          [
           "AMFS"
          ],
          [
           "AVAT"
          ],
          [
           "UTO"
          ],
          [
           "UTL"
          ],
          [
           "HOR"
          ],
          [
           "BHV"
          ],
          [
           "BNK"
          ],
          [
           "HVSP"
          ],
          [
           "DLD"
          ],
          [
           "HVS"
          ],
          [
           "HTN"
          ],
          [
           "DB"
          ],
          [
           "HTNC"
          ],
          [
           "BSMZ"
          ],
          [
           "NDB"
          ],
          [
           "STZ"
          ],
          [
           "BRN"
          ],
          [
           "SD"
          ],
          [
           "WP"
          ],
          [
           "ASB"
          ],
          [
           "DVD"
          ],
          [
           "DMNZ"
          ],
          [
           "DMN"
          ],
          [
           "ASA"
          ],
          [
           "CL"
          ],
          [
           "ASDM"
          ],
          [
           "ASD"
          ],
          [
           "DRON"
          ],
          [
           "BSD"
          ],
          [
           "ALM"
          ],
          [
           "ASS"
          ],
          [
           "ZD"
          ],
          [
           "ZBM"
          ],
          [
           "EML"
          ],
          [
           "PMR"
          ],
          [
           "TB"
          ],
          [
           "GZ"
          ],
          [
           "HT"
          ],
          [
           "BD"
          ],
          [
           "BET"
          ],
          [
           "BDPB"
          ],
          [
           "EHB"
          ],
          [
           "EHV"
          ],
          [
           "ETN"
          ],
          [
           "HMBV"
          ],
          [
           "HZE"
          ],
          [
           "HMH"
          ],
          [
           "HM"
          ],
          [
           "GN"
          ],
          [
           "GERP"
          ],
          [
           "GNN"
          ],
          [
           "ZH"
          ],
          [
           "WSM"
          ],
          [
           "HGZ"
          ],
          [
           "APG"
          ],
          [
           "VDM"
          ],
          [
           "ASN"
          ],
          [
           "DZ"
          ],
          [
           "WS"
          ],
          [
           "HR"
          ],
          [
           "BL"
          ],
          [
           "HD"
          ],
          [
           "LLS"
          ],
          [
           "SPTN"
          ],
          [
           "DRH"
          ],
          [
           "BV"
          ],
          [
           "HK"
          ],
          [
           "KMA"
          ],
          [
           "UTG"
          ],
          [
           "CAS"
          ],
          [
           "HLO"
          ],
          [
           "PMO"
          ],
          [
           "AMR"
          ],
          [
           "AMRN"
          ],
          [
           "HN"
          ],
          [
           "HNK"
          ],
          [
           "HKS"
          ],
          [
           "BKG"
          ],
          [
           "EKZ"
          ],
          [
           "OBD"
          ],
          [
           "HWD"
          ],
          [
           "SGN"
          ],
          [
           "ANA"
          ],
          [
           "HDRZ"
          ],
          [
           "HDR"
          ],
          [
           "HGV"
          ],
          [
           "EMN"
          ],
          [
           "SWK"
          ],
          [
           "MP"
          ],
          [
           "HDB"
          ],
          [
           "OMN"
          ],
          [
           "HMBH"
          ],
          [
           "OST"
          ],
          [
           "KPN"
          ],
          [
           "WH"
          ],
          [
           "DN"
          ],
          [
           "MZ"
          ],
          [
           "VRY"
          ],
          [
           "WT"
          ],
          [
           "HRT"
          ],
          [
           "RV"
          ],
          [
           "VL"
          ],
          [
           "RM"
          ],
          [
           "RSD"
          ],
          [
           "STD"
          ],
          [
           "DVC"
          ],
          [
           "RAT"
          ],
          [
           "LC"
          ],
          [
           "ZL"
          ],
          [
           "DL"
          ],
          [
           "NVD"
          ],
          [
           "GO"
          ],
          [
           "ATN"
          ],
          [
           "WW"
          ],
          [
           "ES"
          ],
          [
           "HGL"
          ],
          [
           "HGLG"
          ],
          [
           "ODZ"
          ],
          [
           "DDN"
          ],
          [
           "BN"
          ],
          [
           "AML"
          ],
          [
           "VZ"
          ],
          [
           "VHP"
          ],
          [
           "SK"
          ],
          [
           "LW"
          ],
          [
           "HRL"
          ],
          [
           "LG"
          ],
          [
           "MES"
          ],
          [
           "VK"
          ],
          [
           "MTN"
          ],
          [
           "KRD"
          ],
          [
           "MT"
          ],
          [
           "MTR"
          ],
          [
           "BGN"
          ],
          [
           "HLG"
          ]
         ],
         "hovertemplate": "lat=%{lat}<br>lng=%{lon}<br>stationCode=%{customdata[0]}<extra></extra>",
         "lat": {
          "bdata": "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",
          "dtype": "f8"
         },
         "legendgroup": "",
         "lon": {
          "bdata": "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",
          "dtype": "f8"
         },
         "marker": {
          "color": "blue",
          "size": 7
         },
         "mode": "markers",
         "name": "OV-fiets Rental Locations",
         "showlegend": true,
         "subplot": "map",
         "type": "scattermap"
        },
        {
         "hovertext": [
          "Voorschoten",
          "De Kooy",
          "Schiphol",
          "Berkhout",
          "Hoorn Terschelling",
          "De Bilt",
          "Stavoren",
          "Lelystad",
          "Leeuwarden",
          "Marknesse",
          "Deelen",
          "Lauwersoog",
          "Heino",
          "Hoogeveen",
          "Eelde",
          "Hupsel",
          "Nieuw Beerta",
          "Twenthe",
          "Vlissingen",
          "Westdorpe",
          "Wilhelminadorp",
          "Hoek van Holland",
          "Woensdrecht",
          "Rotterdam",
          "Cabauw Mast",
          "Gilze-Rijen",
          "Herwijnen",
          "Eindhoven",
          "Volkel",
          "Ell",
          "Maastricht",
          "Horst"
         ],
         "lat": {
          "bdata": "NV66SQwSSkAQWDm0yHZKQGIQWDm0KEpA30+Nl25SSkAZBFYOLbJKQM3MzMzMDEpAbef7qfFySkC0yHa+nzpKQOkmMQisnEpARIts5/tZSkC6SQwCKwdKQL6fGi/dtEpASOF6FK43SkAAAAAAAGBKQAAAAAAAkEpARrbz/dQISkAMAiuHFplKQFCNl24SI0pAf2q8dJO4SUCwcmiR7ZxJQPp+arx0w0lA5dAi2/n+SUC28/3UeLlJQEJg5dAi+0lAXI/C9Sj8SUCcxCCwcshJQMuhRbbz7UlAfT81Xrq5SUAxCKwcWtRJQNNNYhBYmUlAhxbZzvdzSUD6QV2kUL5JQA==",
          "dtype": "f8"
         },
         "lon": {
          "bdata": "c2iR7Xy/EUA5tMh2vh8TQClcj8L1KBNA0SLb+X7qE0D8qfHSTWIVQLgehetRuBRA8KfGSzeJFUAUrkfhehQWQDVeukkMAhdAWmQ730+NF0DLoUW2830XQM3MzMzMzBhA8KfGSzcJGUCyne+nxksaQNejcD0KVxpAVOOlm8SgGkCamZmZmZkcQKrx0k1ikBtA+FPjpZvEDEAX2c73U+MOQN9PjZduEg9AsHJoke18EECR7Xw/NV4RQH0/NV66yRFATmIQWDm0E0BYObTIdr4TQC/dJAaBlRRANV66SQyCFUCHFtnO99MWQFpkO99PDRdAPzVeukkMF0BslPWbiTkYQA==",
          "dtype": "f8"
         },
         "marker": {
          "color": "red",
          "size": 7
         },
         "mode": "markers",
         "name": "KNMI Weather Stations",
         "showlegend": true,
         "type": "scattermap"
        }
       ],
       "layout": {
        "height": 800,
        "legend": {
         "title": {
          "text": "Legend"
         },
         "tracegroupgap": 0,
         "x": 0.02,
         "y": 0.98
        },
        "map": {
         "center": {
          "lat": 52.101,
          "lon": 5.6461
         },
         "domain": {
          "x": [
           0,
           1
          ],
          "y": [
           0,
           1
          ]
         },
         "zoom": 6.5
        },
        "mapbox": {
         "center": {
          "lat": 52.101,
          "lon": 5.6461
         },
         "style": "open-street-map",
         "zoom": 6.5
        },
        "template": {
         "data": {
          "bar": [
           {
            "error_x": {
             "color": "#2a3f5f"
            },
            "error_y": {
             "color": "#2a3f5f"
            },
            "marker": {
             "line": {
              "color": "#E5ECF6",
              "width": 0.5
             },
             "pattern": {
              "fillmode": "overlay",
              "size": 10,
              "solidity": 0.2
             }
            },
            "type": "bar"
           }
          ],
          "barpolar": [
           {
            "marker": {
             "line": {
              "color": "#E5ECF6",
              "width": 0.5
             },
             "pattern": {
              "fillmode": "overlay",
              "size": 10,
              "solidity": 0.2
             }
            },
            "type": "barpolar"
           }
          ],
          "carpet": [
           {
            "aaxis": {
             "endlinecolor": "#2a3f5f",
             "gridcolor": "white",
             "linecolor": "white",
             "minorgridcolor": "white",
             "startlinecolor": "#2a3f5f"
            },
            "baxis": {
             "endlinecolor": "#2a3f5f",
             "gridcolor": "white",
             "linecolor": "white",
             "minorgridcolor": "white",
             "startlinecolor": "#2a3f5f"
            },
            "type": "carpet"
           }
          ],
          "choropleth": [
           {
            "colorbar": {
             "outlinewidth": 0,
             "ticks": ""
            },
            "type": "choropleth"
           }
          ],
          "contour": [
           {
            "colorbar": {
             "outlinewidth": 0,
             "ticks": ""
            },
            "colorscale": [
             [
              0,
              "#0d0887"
             ],
             [
              0.1111111111111111,
              "#46039f"
             ],
             [
              0.2222222222222222,
              "#7201a8"
             ],
             [
              0.3333333333333333,
              "#9c179e"
             ],
             [
              0.4444444444444444,
              "#bd3786"
             ],
             [
              0.5555555555555556,
              "#d8576b"
             ],
             [
              0.6666666666666666,
              "#ed7953"
             ],
             [
              0.7777777777777778,
              "#fb9f3a"
             ],
             [
              0.8888888888888888,
              "#fdca26"
             ],
             [
              1,
              "#f0f921"
             ]
            ],
            "type": "contour"
           }
          ],
          "contourcarpet": [
           {
            "colorbar": {
             "outlinewidth": 0,
             "ticks": ""
            },
            "type": "contourcarpet"
           }
          ],
          "heatmap": [
           {
            "colorbar": {
             "outlinewidth": 0,
             "ticks": ""
            },
            "colorscale": [
             [
              0,
              "#0d0887"
             ],
             [
              0.1111111111111111,
              "#46039f"
             ],
             [
              0.2222222222222222,
              "#7201a8"
             ],
             [
              0.3333333333333333,
              "#9c179e"
             ],
             [
              0.4444444444444444,
              "#bd3786"
             ],
             [
              0.5555555555555556,
              "#d8576b"
             ],
             [
              0.6666666666666666,
              "#ed7953"
             ],
             [
              0.7777777777777778,
              "#fb9f3a"
             ],
             [
              0.8888888888888888,
              "#fdca26"
             ],
             [
              1,
              "#f0f921"
             ]
            ],
            "type": "heatmap"
           }
          ],
          "histogram": [
           {
            "marker": {
             "pattern": {
              "fillmode": "overlay",
              "size": 10,
              "solidity": 0.2
             }
            },
            "type": "histogram"
           }
          ],
          "histogram2d": [
           {
            "colorbar": {
             "outlinewidth": 0,
             "ticks": ""
            },
            "colorscale": [
             [
              0,
              "#0d0887"
             ],
             [
              0.1111111111111111,
              "#46039f"
             ],
             [
              0.2222222222222222,
              "#7201a8"
             ],
             [
              0.3333333333333333,
              "#9c179e"
             ],
             [
              0.4444444444444444,
              "#bd3786"
             ],
             [
              0.5555555555555556,
              "#d8576b"
             ],
             [
              0.6666666666666666,
              "#ed7953"
             ],
             [
              0.7777777777777778,
              "#fb9f3a"
             ],
             [
              0.8888888888888888,
              "#fdca26"
             ],
             [
              1,
              "#f0f921"
             ]
            ],
            "type": "histogram2d"
           }
          ],
          "histogram2dcontour": [
           {
            "colorbar": {
             "outlinewidth": 0,
             "ticks": ""
            },
            "colorscale": [
             [
              0,
              "#0d0887"
             ],
             [
              0.1111111111111111,
              "#46039f"
             ],
             [
              0.2222222222222222,
              "#7201a8"
             ],
             [
              0.3333333333333333,
              "#9c179e"
             ],
             [
              0.4444444444444444,
              "#bd3786"
             ],
             [
              0.5555555555555556,
              "#d8576b"
             ],
             [
              0.6666666666666666,
              "#ed7953"
             ],
             [
              0.7777777777777778,
              "#fb9f3a"
             ],
             [
              0.8888888888888888,
              "#fdca26"
             ],
             [
              1,
              "#f0f921"
             ]
            ],
            "type": "histogram2dcontour"
           }
          ],
          "mesh3d": [
           {
            "colorbar": {
             "outlinewidth": 0,
             "ticks": ""
            },
            "type": "mesh3d"
           }
          ],
          "parcoords": [
           {
            "line": {
             "colorbar": {
              "outlinewidth": 0,
              "ticks": ""
             }
            },
            "type": "parcoords"
           }
          ],
          "pie": [
           {
            "automargin": true,
            "type": "pie"
           }
          ],
          "scatter": [
           {
            "fillpattern": {
             "fillmode": "overlay",
             "size": 10,
             "solidity": 0.2
            },
            "type": "scatter"
           }
          ],
          "scatter3d": [
           {
            "line": {
             "colorbar": {
              "outlinewidth": 0,
              "ticks": ""
             }
            },
            "marker": {
             "colorbar": {
              "outlinewidth": 0,
              "ticks": ""
             }
            },
            "type": "scatter3d"
           }
          ],
          "scattercarpet": [
           {
            "marker": {
             "colorbar": {
              "outlinewidth": 0,
              "ticks": ""
             }
            },
            "type": "scattercarpet"
           }
          ],
          "scattergeo": [
           {
            "marker": {
             "colorbar": {
              "outlinewidth": 0,
              "ticks": ""
             }
            },
            "type": "scattergeo"
           }
          ],
          "scattergl": [
           {
            "marker": {
             "colorbar": {
              "outlinewidth": 0,
              "ticks": ""
             }
            },
            "type": "scattergl"
           }
          ],
          "scattermap": [
           {
            "marker": {
             "colorbar": {
              "outlinewidth": 0,
              "ticks": ""
             }
            },
            "type": "scattermap"
           }
          ],
          "scattermapbox": [
           {
            "marker": {
             "colorbar": {
              "outlinewidth": 0,
              "ticks": ""
             }
            },
            "type": "scattermapbox"
           }
          ],
          "scatterpolar": [
           {
            "marker": {
             "colorbar": {
              "outlinewidth": 0,
              "ticks": ""
             }
            },
            "type": "scatterpolar"
           }
          ],
          "scatterpolargl": [
           {
            "marker": {
             "colorbar": {
              "outlinewidth": 0,
              "ticks": ""
             }
            },
            "type": "scatterpolargl"
           }
          ],
          "scatterternary": [
           {
            "marker": {
             "colorbar": {
              "outlinewidth": 0,
              "ticks": ""
             }
            },
            "type": "scatterternary"
           }
          ],
          "surface": [
           {
            "colorbar": {
             "outlinewidth": 0,
             "ticks": ""
            },
            "colorscale": [
             [
              0,
              "#0d0887"
             ],
             [
              0.1111111111111111,
              "#46039f"
             ],
             [
              0.2222222222222222,
              "#7201a8"
             ],
             [
              0.3333333333333333,
              "#9c179e"
             ],
             [
              0.4444444444444444,
              "#bd3786"
             ],
             [
              0.5555555555555556,
              "#d8576b"
             ],
             [
              0.6666666666666666,
              "#ed7953"
             ],
             [
              0.7777777777777778,
              "#fb9f3a"
             ],
             [
              0.8888888888888888,
              "#fdca26"
             ],
             [
              1,
              "#f0f921"
             ]
            ],
            "type": "surface"
           }
          ],
          "table": [
           {
            "cells": {
             "fill": {
              "color": "#EBF0F8"
             },
             "line": {
              "color": "white"
             }
            },
            "header": {
             "fill": {
              "color": "#C8D4E3"
             },
             "line": {
              "color": "white"
             }
            },
            "type": "table"
           }
          ]
         },
         "layout": {
          "annotationdefaults": {
           "arrowcolor": "#2a3f5f",
           "arrowhead": 0,
           "arrowwidth": 1
          },
          "autotypenumbers": "strict",
          "coloraxis": {
           "colorbar": {
            "outlinewidth": 0,
            "ticks": ""
           }
          },
          "colorscale": {
           "diverging": [
            [
             0,
             "#8e0152"
            ],
            [
             0.1,
             "#c51b7d"
            ],
            [
             0.2,
             "#de77ae"
            ],
            [
             0.3,
             "#f1b6da"
            ],
            [
             0.4,
             "#fde0ef"
            ],
            [
             0.5,
             "#f7f7f7"
            ],
            [
             0.6,
             "#e6f5d0"
            ],
            [
             0.7,
             "#b8e186"
            ],
            [
             0.8,
             "#7fbc41"
            ],
            [
             0.9,
             "#4d9221"
            ],
            [
             1,
             "#276419"
            ]
           ],
           "sequential": [
            [
             0,
             "#0d0887"
            ],
            [
             0.1111111111111111,
             "#46039f"
            ],
            [
             0.2222222222222222,
             "#7201a8"
            ],
            [
             0.3333333333333333,
             "#9c179e"
            ],
            [
             0.4444444444444444,
             "#bd3786"
            ],
            [
             0.5555555555555556,
             "#d8576b"
            ],
            [
             0.6666666666666666,
             "#ed7953"
            ],
            [
             0.7777777777777778,
             "#fb9f3a"
            ],
            [
             0.8888888888888888,
             "#fdca26"
            ],
            [
             1,
             "#f0f921"
            ]
           ],
           "sequentialminus": [
            [
             0,
             "#0d0887"
            ],
            [
             0.1111111111111111,
             "#46039f"
            ],
            [
             0.2222222222222222,
             "#7201a8"
            ],
            [
             0.3333333333333333,
             "#9c179e"
            ],
            [
             0.4444444444444444,
             "#bd3786"
            ],
            [
             0.5555555555555556,
             "#d8576b"
            ],
            [
             0.6666666666666666,
             "#ed7953"
            ],
            [
             0.7777777777777778,
             "#fb9f3a"
            ],
            [
             0.8888888888888888,
             "#fdca26"
            ],
            [
             1,
             "#f0f921"
            ]
           ]
          },
          "colorway": [
           "#636efa",
           "#EF553B",
           "#00cc96",
           "#ab63fa",
           "#FFA15A",
           "#19d3f3",
           "#FF6692",
           "#B6E880",
           "#FF97FF",
           "#FECB52"
          ],
          "font": {
           "color": "#2a3f5f"
          },
          "geo": {
           "bgcolor": "white",
           "lakecolor": "white",
           "landcolor": "#E5ECF6",
           "showlakes": true,
           "showland": true,
           "subunitcolor": "white"
          },
          "hoverlabel": {
           "align": "left"
          },
          "hovermode": "closest",
          "mapbox": {
           "style": "light"
          },
          "paper_bgcolor": "white",
          "plot_bgcolor": "#E5ECF6",
          "polar": {
           "angularaxis": {
            "gridcolor": "white",
            "linecolor": "white",
            "ticks": ""
           },
           "bgcolor": "#E5ECF6",
           "radialaxis": {
            "gridcolor": "white",
            "linecolor": "white",
            "ticks": ""
           }
          },
          "scene": {
           "xaxis": {
            "backgroundcolor": "#E5ECF6",
            "gridcolor": "white",
            "gridwidth": 2,
            "linecolor": "white",
            "showbackground": true,
            "ticks": "",
            "zerolinecolor": "white"
           },
           "yaxis": {
            "backgroundcolor": "#E5ECF6",
            "gridcolor": "white",
            "gridwidth": 2,
            "linecolor": "white",
            "showbackground": true,
            "ticks": "",
            "zerolinecolor": "white"
           },
           "zaxis": {
            "backgroundcolor": "#E5ECF6",
            "gridcolor": "white",
            "gridwidth": 2,
            "linecolor": "white",
            "showbackground": true,
            "ticks": "",
            "zerolinecolor": "white"
           }
          },
          "shapedefaults": {
           "line": {
            "color": "#2a3f5f"
           }
          },
          "ternary": {
           "aaxis": {
            "gridcolor": "white",
            "linecolor": "white",
            "ticks": ""
           },
           "baxis": {
            "gridcolor": "white",
            "linecolor": "white",
            "ticks": ""
           },
           "bgcolor": "#E5ECF6",
           "caxis": {
            "gridcolor": "white",
            "linecolor": "white",
            "ticks": ""
           }
          },
          "title": {
           "x": 0.05
          },
          "xaxis": {
           "automargin": true,
           "gridcolor": "white",
           "linecolor": "white",
           "ticks": "",
           "title": {
            "standoff": 15
           },
           "zerolinecolor": "white",
           "zerolinewidth": 2
          },
          "yaxis": {
           "automargin": true,
           "gridcolor": "white",
           "linecolor": "white",
           "ticks": "",
           "title": {
            "standoff": 15
           },
           "zerolinecolor": "white",
           "zerolinewidth": 2
          }
         }
        },
        "title": {
         "text": "OV-fiets rental locations and KNMI weather stations"
        },
        "width": 1000
       }
      }
     },
     "metadata": {},
     "output_type": "display_data"
    }
   ],
   "source": [
    "\n",
    "# First scatter\n",
    "fig = px.scatter_map(\n",
    "    df_locations,\n",
    "    lat=\"lat\",\n",
    "    lon=\"lng\",\n",
    "    hover_data=[\"stationCode\"],\n",
    "    zoom=6.5,\n",
    "    center={\"lat\": 52.1010, \"lon\": 5.6461},\n",
    "    title=\"OV-fiets rental locations and KNMI weather stations\",\n",
    ")\n",
    "\n",
    "fig.data[0].name = \"OV-fiets Rental Locations\"\n",
    "fig.data[0].showlegend = True\n",
    "fig.data[0].marker.color = \"blue\"\n",
    "fig.data[0].marker.size = 7\n",
    "\n",
    "\n",
    "# Add the second scatter to the same figure\n",
    "fig.add_scattermap(\n",
    "    lat=weather_location[\"LAT(north)\"],\n",
    "    lon=weather_location[\"LON(east)\"],\n",
    "    mode=\"markers\",\n",
    "    marker=dict(size=7, color=\"red\"),\n",
    "    name=\"KNMI Weather Stations\",\n",
    "    hovertext=weather_location[\"NAME\"],\n",
    "    showlegend = True\n",
    ")\n",
    "\n",
    "# Set map style (required)\n",
    "fig.update_layout(\n",
    "    mapbox_style=\"open-street-map\",\n",
    "    width=1000,\n",
    "    height=800,\n",
    "    legend=dict(\n",
    "    title=\"Legend\",\n",
    "    x=0.02, y=0.98,)\n",
    ")\n",
    "\n",
    "fig.show()\n"
   ]
  },
  {
   "cell_type": "code",
   "execution_count": null,
   "id": "cfa66c79",
   "metadata": {},
   "outputs": [],
   "source": []
  },
  {
   "cell_type": "code",
   "execution_count": 9,
   "metadata": {},
   "outputs": [],
   "source": [
    "\n",
    "\n",
    "# Example: df_locations = OV-fiets stations (lat, lng, stationCode, description)\n",
    "#           weather_location = KNMI weather stations (LAT(north), LON(east), STN, NAME)\n",
    "\n",
    "pairs = []\n",
    "\n",
    "for _, loc_row in df_locations.iterrows():\n",
    "    loc_point = (loc_row[\"lat\"], loc_row[\"lng\"])\n",
    "    nearest_station = None\n",
    "    nearest_dist = float(\"inf\")\n",
    "\n",
    "    # Loop through all weather stations to find nearest\n",
    "    for _, w_row in weather_location.iterrows():\n",
    "        w_point = (w_row[\"LAT(north)\"], w_row[\"LON(east)\"])\n",
    "        dist = geodesic(loc_point, w_point).km\n",
    "        if dist < nearest_dist:\n",
    "            nearest_dist = dist\n",
    "            nearest_station = w_row\n",
    "\n",
    "    pairs.append({\n",
    "        \"stationCode\": loc_row[\"stationCode\"],\n",
    "        \"description\": loc_row[\"description\"],\n",
    "        \"weather_station\": nearest_station[\"STN\"],\n",
    "        \"weather_name\": nearest_station[\"NAME\"],\n",
    "        \"distance_km\": round(nearest_dist, 2)\n",
    "    })\n",
    "\n",
    "# Create mapping DataFrame\n",
    "mapping_df = pd.DataFrame(pairs)\n"
   ]
  },
  {
   "cell_type": "code",
   "execution_count": 10,
   "id": "0f72311d",
   "metadata": {},
   "outputs": [
    {
     "data": {
      "text/html": [
       "<div>\n",
       "<style scoped>\n",
       "    .dataframe tbody tr th:only-of-type {\n",
       "        vertical-align: middle;\n",
       "    }\n",
       "\n",
       "    .dataframe tbody tr th {\n",
       "        vertical-align: top;\n",
       "    }\n",
       "\n",
       "    .dataframe thead th {\n",
       "        text-align: right;\n",
       "    }\n",
       "</style>\n",
       "<table border=\"1\" class=\"dataframe\">\n",
       "  <thead>\n",
       "    <tr style=\"text-align: right;\">\n",
       "      <th></th>\n",
       "      <th>stationCode</th>\n",
       "      <th>description</th>\n",
       "      <th>weather_station</th>\n",
       "      <th>weather_name</th>\n",
       "      <th>distance_km</th>\n",
       "    </tr>\n",
       "  </thead>\n",
       "  <tbody>\n",
       "    <tr>\n",
       "      <th>0</th>\n",
       "      <td>WC</td>\n",
       "      <td>Wijchen</td>\n",
       "      <td>375</td>\n",
       "      <td>Volkel</td>\n",
       "      <td>17.02</td>\n",
       "    </tr>\n",
       "    <tr>\n",
       "      <th>1</th>\n",
       "      <td>EC</td>\n",
       "      <td>Echt</td>\n",
       "      <td>377</td>\n",
       "      <td>Ell</td>\n",
       "      <td>13.56</td>\n",
       "    </tr>\n",
       "    <tr>\n",
       "      <th>2</th>\n",
       "      <td>RS</td>\n",
       "      <td>Rosmalen</td>\n",
       "      <td>356</td>\n",
       "      <td>Herwijnen</td>\n",
       "      <td>22.25</td>\n",
       "    </tr>\n",
       "    <tr>\n",
       "      <th>3</th>\n",
       "      <td>Vg001</td>\n",
       "      <td>Vught</td>\n",
       "      <td>370</td>\n",
       "      <td>Eindhoven</td>\n",
       "      <td>23.55</td>\n",
       "    </tr>\n",
       "    <tr>\n",
       "      <th>4</th>\n",
       "      <td>NMGO</td>\n",
       "      <td>Nijmegen Goffert</td>\n",
       "      <td>375</td>\n",
       "      <td>Volkel</td>\n",
       "      <td>20.36</td>\n",
       "    </tr>\n",
       "  </tbody>\n",
       "</table>\n",
       "</div>"
      ],
      "text/plain": [
       "  stationCode       description  weather_station weather_name  distance_km\n",
       "0          WC           Wijchen              375       Volkel        17.02\n",
       "1          EC              Echt              377          Ell        13.56\n",
       "2          RS          Rosmalen              356    Herwijnen        22.25\n",
       "3       Vg001             Vught              370    Eindhoven        23.55\n",
       "4        NMGO  Nijmegen Goffert              375       Volkel        20.36"
      ]
     },
     "execution_count": 10,
     "metadata": {},
     "output_type": "execute_result"
    }
   ],
   "source": [
    "mapping_df.head()\n",
    "\n"
   ]
  },
  {
   "cell_type": "code",
   "execution_count": 11,
   "id": "a63c9c1c",
   "metadata": {},
   "outputs": [
    {
     "data": {
      "text/html": [
       "<div>\n",
       "<style scoped>\n",
       "    .dataframe tbody tr th:only-of-type {\n",
       "        vertical-align: middle;\n",
       "    }\n",
       "\n",
       "    .dataframe tbody tr th {\n",
       "        vertical-align: top;\n",
       "    }\n",
       "\n",
       "    .dataframe thead th {\n",
       "        text-align: right;\n",
       "    }\n",
       "</style>\n",
       "<table border=\"1\" class=\"dataframe\">\n",
       "  <thead>\n",
       "    <tr style=\"text-align: right;\">\n",
       "      <th></th>\n",
       "      <th>stationCode</th>\n",
       "      <th>description</th>\n",
       "      <th>weather_station</th>\n",
       "      <th>weather_name</th>\n",
       "      <th>distance_km</th>\n",
       "    </tr>\n",
       "  </thead>\n",
       "  <tbody>\n",
       "    <tr>\n",
       "      <th>12</th>\n",
       "      <td>DT</td>\n",
       "      <td>Delft, Fietsenstalling</td>\n",
       "      <td>344</td>\n",
       "      <td>Rotterdam</td>\n",
       "      <td>7.9</td>\n",
       "    </tr>\n",
       "  </tbody>\n",
       "</table>\n",
       "</div>"
      ],
      "text/plain": [
       "   stationCode             description  weather_station weather_name  \\\n",
       "12          DT  Delft, Fietsenstalling              344    Rotterdam   \n",
       "\n",
       "    distance_km  \n",
       "12          7.9  "
      ]
     },
     "execution_count": 11,
     "metadata": {},
     "output_type": "execute_result"
    }
   ],
   "source": [
    "mapping_df[mapping_df['stationCode'] == 'DT']"
   ]
  },
  {
   "cell_type": "code",
   "execution_count": null,
   "id": "fc314608",
   "metadata": {},
   "outputs": [],
   "source": []
  }
 ],
 "metadata": {
  "kernelspec": {
   "display_name": "TIL6022",
   "language": "python",
   "name": "python3"
  },
  "language_info": {
   "codemirror_mode": {
    "name": "ipython",
    "version": 3
   },
   "file_extension": ".py",
   "mimetype": "text/x-python",
   "name": "python",
   "nbconvert_exporter": "python",
   "pygments_lexer": "ipython3",
   "version": "3.12.9"
  }
 },
 "nbformat": 4,
 "nbformat_minor": 5
}
